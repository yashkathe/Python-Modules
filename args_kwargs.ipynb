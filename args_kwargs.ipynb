{
 "cells": [
  {
   "cell_type": "markdown",
   "id": "f19790fe",
   "metadata": {},
   "source": [
    "# Args & Kwargs\n",
    "\n",
    "- args lets you pass multiple positional arguments to a function as a tuple.\n",
    "- kwargs lets you pass multiple keyword arguments to a function as a dictionary."
   ]
  },
  {
   "cell_type": "markdown",
   "id": "52413ff4",
   "metadata": {},
   "source": [
    "# Intro - Background \n",
    "(* and **)"
   ]
  },
  {
   "cell_type": "markdown",
   "id": "3ad9d831",
   "metadata": {},
   "source": [
    "\\* \\- unpacking operator"
   ]
  },
  {
   "cell_type": "code",
   "execution_count": 23,
   "id": "043dc6e1",
   "metadata": {},
   "outputs": [],
   "source": [
    "nums = [1, 2, 3, 4, 5]"
   ]
  },
  {
   "cell_type": "code",
   "execution_count": 24,
   "id": "4c6e9c1a",
   "metadata": {},
   "outputs": [
    {
     "name": "stdout",
     "output_type": "stream",
     "text": [
      "1 2 3 4 5\n"
     ]
    }
   ],
   "source": [
    "print(*nums)"
   ]
  },
  {
   "cell_type": "markdown",
   "id": "5064cec9",
   "metadata": {},
   "source": [
    "## Args"
   ]
  },
  {
   "cell_type": "code",
   "execution_count": 25,
   "id": "4ade161e",
   "metadata": {},
   "outputs": [],
   "source": [
    "def order_pizza(size):\n",
    "    print(f\"Ordered a {size} pizza\")"
   ]
  },
  {
   "cell_type": "code",
   "execution_count": 26,
   "id": "ec70928f",
   "metadata": {},
   "outputs": [
    {
     "name": "stdout",
     "output_type": "stream",
     "text": [
      "Ordered a extra large pizza\n"
     ]
    }
   ],
   "source": [
    "order_pizza(\"extra large\")"
   ]
  },
  {
   "cell_type": "markdown",
   "id": "156d0dd8",
   "metadata": {},
   "source": [
    "this function needs to have the flexibility to have n number of toppings which will differ from pizza to pizza"
   ]
  },
  {
   "cell_type": "code",
   "execution_count": 27,
   "id": "34fae312",
   "metadata": {},
   "outputs": [],
   "source": [
    "def order_pizza(size, *toppings):\n",
    "    print(f\"Ordered a {size} pizza with {toppings}\")"
   ]
  },
  {
   "cell_type": "markdown",
   "id": "b6296fe6",
   "metadata": {},
   "source": [
    "python knows that the first argument is size and the rest of the arguments are packed into a tupple"
   ]
  },
  {
   "cell_type": "code",
   "execution_count": 28,
   "id": "a8cff032",
   "metadata": {},
   "outputs": [
    {
     "name": "stdout",
     "output_type": "stream",
     "text": [
      "Ordered a extra large pizza with ('chicken', 'mushrooms', 'onions')\n"
     ]
    }
   ],
   "source": [
    "order_pizza(\"extra large\", \"chicken\", \"mushrooms\", \"onions\" )"
   ]
  },
  {
   "cell_type": "code",
   "execution_count": 29,
   "id": "86d5e74c",
   "metadata": {},
   "outputs": [],
   "source": [
    "def order_pizza(size, *toppings):\n",
    "    print(f\"Ordered a {size} pizza with the following toppings:\")\n",
    "    for topping in toppings:\n",
    "        print(f'- {topping}')"
   ]
  },
  {
   "cell_type": "code",
   "execution_count": 30,
   "id": "1d532943",
   "metadata": {},
   "outputs": [
    {
     "name": "stdout",
     "output_type": "stream",
     "text": [
      "Ordered a extra large pizza with the following toppings:\n",
      "- chicken\n",
      "- mushrooms\n",
      "- onions\n"
     ]
    }
   ],
   "source": [
    "order_pizza(\"extra large\", \"chicken\", \"mushrooms\", \"onions\" )"
   ]
  },
  {
   "cell_type": "markdown",
   "id": "e6406393",
   "metadata": {},
   "source": [
    "## Kwargs"
   ]
  },
  {
   "cell_type": "markdown",
   "id": "67266024",
   "metadata": {},
   "source": [
    "what we need to have more metadata like if its a delivery, amount of tip, etc"
   ]
  },
  {
   "cell_type": "code",
   "execution_count": 40,
   "id": "f203e46e",
   "metadata": {},
   "outputs": [],
   "source": [
    "def order_pizza(size, *toppings, **details):\n",
    "    print(f\"Ordered a {size} pizza with the following toppings:\\n\")\n",
    "    \n",
    "    for topping in toppings:\n",
    "        print(f'- {topping}')\n",
    "    \n",
    "    for k, v in details.items():\n",
    "        if k == \"delivery\":\n",
    "            print(f\"\\nNeeds to be delivered? : {v}\")\n",
    "        if k == \"tip\":\n",
    "            print(f\"tip received : {v}\")"
   ]
  },
  {
   "cell_type": "code",
   "execution_count": 41,
   "id": "20ab2542",
   "metadata": {},
   "outputs": [
    {
     "name": "stdout",
     "output_type": "stream",
     "text": [
      "Ordered a extra large pizza with the following toppings:\n",
      "\n",
      "- chicken\n",
      "- mushrooms\n",
      "- onions\n",
      "\n",
      "Needs to be delivered? : True\n",
      "tip received : 5\n"
     ]
    }
   ],
   "source": [
    "order_pizza(\"extra large\", \"chicken\", \"mushrooms\", \"onions\", delivery=True, tip=5 )"
   ]
  },
  {
   "cell_type": "code",
   "execution_count": null,
   "id": "145941a3",
   "metadata": {},
   "outputs": [],
   "source": []
  }
 ],
 "metadata": {
  "kernelspec": {
   "display_name": "Python 3",
   "language": "python",
   "name": "python3"
  },
  "language_info": {
   "codemirror_mode": {
    "name": "ipython",
    "version": 3
   },
   "file_extension": ".py",
   "mimetype": "text/x-python",
   "name": "python",
   "nbconvert_exporter": "python",
   "pygments_lexer": "ipython3",
   "version": "3.10.12"
  }
 },
 "nbformat": 4,
 "nbformat_minor": 5
}
