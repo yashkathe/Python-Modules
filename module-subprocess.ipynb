{
 "cells": [
  {
   "cell_type": "markdown",
   "metadata": {},
   "source": [
    "# Subprocess module"
   ]
  },
  {
   "cell_type": "markdown",
   "metadata": {},
   "source": [
    "run external commands using the subprocess module "
   ]
  },
  {
   "cell_type": "code",
   "execution_count": 6,
   "metadata": {},
   "outputs": [],
   "source": [
    "import subprocess"
   ]
  },
  {
   "cell_type": "code",
   "execution_count": 50,
   "metadata": {},
   "outputs": [
    {
     "name": "stdout",
     "output_type": "stream",
     "text": [
      "\u001b[?25l\u001b[?7l\u001b[0m\u001b[36m\u001b[1m             /////////////\n",
      "         /////////////////////\n",
      "      ///////\u001b[37m\u001b[0m\u001b[1m*767\u001b[0m\u001b[36m\u001b[1m////////////////\n",
      "    //////\u001b[37m\u001b[0m\u001b[1m7676767676*\u001b[0m\u001b[36m\u001b[1m//////////////\n",
      "   /////\u001b[37m\u001b[0m\u001b[1m76767\u001b[0m\u001b[36m\u001b[1m//\u001b[37m\u001b[0m\u001b[1m7676767\u001b[0m\u001b[36m\u001b[1m//////////////\n",
      "  /////\u001b[37m\u001b[0m\u001b[1m767676\u001b[0m\u001b[36m\u001b[1m///\u001b[37m\u001b[0m\u001b[1m*76767\u001b[0m\u001b[36m\u001b[1m///////////////\n",
      " ///////\u001b[37m\u001b[0m\u001b[1m767676\u001b[0m\u001b[36m\u001b[1m///\u001b[37m\u001b[0m\u001b[1m76767\u001b[0m\u001b[36m\u001b[1m.///\u001b[37m\u001b[0m\u001b[1m7676*\u001b[0m\u001b[36m\u001b[1m///////\n",
      "/////////\u001b[37m\u001b[0m\u001b[1m767676\u001b[0m\u001b[36m\u001b[1m//\u001b[37m\u001b[0m\u001b[1m76767\u001b[0m\u001b[36m\u001b[1m///\u001b[37m\u001b[0m\u001b[1m767676\u001b[0m\u001b[36m\u001b[1m////////\n",
      "//////////\u001b[37m\u001b[0m\u001b[1m76767676767\u001b[0m\u001b[36m\u001b[1m////\u001b[37m\u001b[0m\u001b[1m76767\u001b[0m\u001b[36m\u001b[1m/////////\n",
      "///////////\u001b[37m\u001b[0m\u001b[1m76767676\u001b[0m\u001b[36m\u001b[1m//////\u001b[37m\u001b[0m\u001b[1m7676\u001b[0m\u001b[36m\u001b[1m//////////\n",
      "////////////,\u001b[37m\u001b[0m\u001b[1m7676\u001b[0m\u001b[36m\u001b[1m,///////\u001b[37m\u001b[0m\u001b[1m767\u001b[0m\u001b[36m\u001b[1m///////////\n",
      "/////////////*\u001b[37m\u001b[0m\u001b[1m7676\u001b[0m\u001b[36m\u001b[1m///////\u001b[37m\u001b[0m\u001b[1m76\u001b[0m\u001b[36m\u001b[1m////////////\n",
      "///////////////\u001b[37m\u001b[0m\u001b[1m7676\u001b[0m\u001b[36m\u001b[1m////////////////////\n",
      " ///////////////\u001b[37m\u001b[0m\u001b[1m7676\u001b[0m\u001b[36m\u001b[1m///\u001b[37m\u001b[0m\u001b[1m767\u001b[0m\u001b[36m\u001b[1m////////////\n",
      "  //////////////////////\u001b[37m\u001b[0m\u001b[1m'\u001b[0m\u001b[36m\u001b[1m////////////\n",
      "   //////\u001b[37m\u001b[0m\u001b[1m.7676767676767676767,\u001b[0m\u001b[36m\u001b[1m//////\n",
      "    /////\u001b[37m\u001b[0m\u001b[1m767676767676767676767\u001b[0m\u001b[36m\u001b[1m/////\n",
      "      ///////////////////////////\n",
      "         /////////////////////\n",
      "             /////////////\u001b[0m\n",
      "\u001b[20A\u001b[9999999D\u001b[42C\u001b[0m\u001b[1m\u001b[36m\u001b[1myashkathe\u001b[0m@\u001b[36m\u001b[1mpop-os\u001b[0m \n",
      "\u001b[42C\u001b[0m----------------\u001b[0m \n",
      "\u001b[42C\u001b[0m\u001b[36m\u001b[1mOS\u001b[0m\u001b[0m:\u001b[0m Pop!_OS 22.04 LTS x86_64\u001b[0m \n",
      "\u001b[42C\u001b[0m\u001b[36m\u001b[1mHost\u001b[0m\u001b[0m:\u001b[0m Inspiron 16 5635 1.12.0\u001b[0m \n",
      "\u001b[42C\u001b[0m\u001b[36m\u001b[1mKernel\u001b[0m\u001b[0m:\u001b[0m 6.9.3-76060903-generic\u001b[0m \n",
      "\u001b[42C\u001b[0m\u001b[36m\u001b[1mUptime\u001b[0m\u001b[0m:\u001b[0m 14 hours, 29 mins\u001b[0m \n",
      "\u001b[42C\u001b[0m\u001b[36m\u001b[1mPackages\u001b[0m\u001b[0m:\u001b[0m 2810 (dpkg), 18 (flatpak), 27 (snap)\u001b[0m \n",
      "\u001b[42C\u001b[0m\u001b[36m\u001b[1mShell\u001b[0m\u001b[0m:\u001b[0m bash 5.1.16\u001b[0m \n",
      "\u001b[42C\u001b[0m\u001b[36m\u001b[1mResolution\u001b[0m\u001b[0m:\u001b[0m 1920x1080\u001b[0m \n",
      "\u001b[42C\u001b[0m\u001b[36m\u001b[1mDE\u001b[0m\u001b[0m:\u001b[0m Unity\u001b[0m \n",
      "\u001b[42C\u001b[0m\u001b[36m\u001b[1mWM\u001b[0m\u001b[0m:\u001b[0m Mutter\u001b[0m \n",
      "\u001b[42C\u001b[0m\u001b[36m\u001b[1mWM Theme\u001b[0m\u001b[0m:\u001b[0m Adwaita\u001b[0m \n",
      "\u001b[42C\u001b[0m\u001b[36m\u001b[1mTheme\u001b[0m\u001b[0m:\u001b[0m Colloid-Dark [GTK2/3]\u001b[0m \n",
      "\u001b[42C\u001b[0m\u001b[36m\u001b[1mIcons\u001b[0m\u001b[0m:\u001b[0m Pop [GTK2/3]\u001b[0m \n",
      "\u001b[42C\u001b[0m\u001b[36m\u001b[1mCPU\u001b[0m\u001b[0m:\u001b[0m AMD Ryzen 7 7730U with Radeon Graphics (16) @ 4.546GHz\u001b[0m \n",
      "\u001b[42C\u001b[0m\u001b[36m\u001b[1mGPU\u001b[0m\u001b[0m:\u001b[0m AMD ATI 03:00.0 Barcelo\u001b[0m \n",
      "\u001b[42C\u001b[0m\u001b[36m\u001b[1mMemory\u001b[0m\u001b[0m:\u001b[0m 12587MiB / 15259MiB\u001b[0m \n",
      "\n",
      "\u001b[42C\u001b[30m\u001b[40m   \u001b[31m\u001b[41m   \u001b[32m\u001b[42m   \u001b[33m\u001b[43m   \u001b[34m\u001b[44m   \u001b[35m\u001b[45m   \u001b[36m\u001b[46m   \u001b[37m\u001b[47m   \u001b[m\n",
      "\u001b[42C\u001b[38;5;8m\u001b[48;5;8m   \u001b[38;5;9m\u001b[48;5;9m   \u001b[38;5;10m\u001b[48;5;10m   \u001b[38;5;11m\u001b[48;5;11m   \u001b[38;5;12m\u001b[48;5;12m   \u001b[38;5;13m\u001b[48;5;13m   \u001b[38;5;14m\u001b[48;5;14m   \u001b[38;5;15m\u001b[48;5;15m   \u001b[m\n",
      "\n",
      "\n",
      "\u001b[?25h\u001b[?7h"
     ]
    },
    {
     "data": {
      "text/plain": [
       "CompletedProcess(args='neofetch', returncode=0)"
      ]
     },
     "execution_count": 50,
     "metadata": {},
     "output_type": "execute_result"
    }
   ],
   "source": [
    "subprocess.run('neofetch', shell=True)"
   ]
  },
  {
   "cell_type": "markdown",
   "metadata": {},
   "source": [
    "## ls"
   ]
  },
  {
   "cell_type": "code",
   "execution_count": 7,
   "metadata": {},
   "outputs": [
    {
     "name": "stdout",
     "output_type": "stream",
     "text": [
      "demo.txt\n",
      "module-os.ipynb\n",
      "module-subprocess.ipynb\n",
      "README.md\n"
     ]
    },
    {
     "data": {
      "text/plain": [
       "CompletedProcess(args='ls', returncode=0)"
      ]
     },
     "execution_count": 7,
     "metadata": {},
     "output_type": "execute_result"
    }
   ],
   "source": [
    "subprocess.run('ls')"
   ]
  },
  {
   "cell_type": "code",
   "execution_count": 8,
   "metadata": {},
   "outputs": [
    {
     "ename": "FileNotFoundError",
     "evalue": "[Errno 2] No such file or directory: 'ls -la'",
     "output_type": "error",
     "traceback": [
      "\u001b[0;31m---------------------------------------------------------------------------\u001b[0m",
      "\u001b[0;31mFileNotFoundError\u001b[0m                         Traceback (most recent call last)",
      "\u001b[0;32m/tmp/ipykernel_180372/360747311.py\u001b[0m in \u001b[0;36m<module>\u001b[0;34m\u001b[0m\n\u001b[0;32m----> 1\u001b[0;31m \u001b[0msubprocess\u001b[0m\u001b[0;34m.\u001b[0m\u001b[0mrun\u001b[0m\u001b[0;34m(\u001b[0m\u001b[0;34m'ls -la'\u001b[0m\u001b[0;34m)\u001b[0m\u001b[0;34m\u001b[0m\u001b[0;34m\u001b[0m\u001b[0m\n\u001b[0m",
      "\u001b[0;32m/usr/lib/python3.11/subprocess.py\u001b[0m in \u001b[0;36mrun\u001b[0;34m(input, capture_output, timeout, check, *popenargs, **kwargs)\u001b[0m\n\u001b[1;32m    544\u001b[0m         \u001b[0mkwargs\u001b[0m\u001b[0;34m[\u001b[0m\u001b[0;34m'stderr'\u001b[0m\u001b[0;34m]\u001b[0m \u001b[0;34m=\u001b[0m \u001b[0mPIPE\u001b[0m\u001b[0;34m\u001b[0m\u001b[0;34m\u001b[0m\u001b[0m\n\u001b[1;32m    545\u001b[0m \u001b[0;34m\u001b[0m\u001b[0m\n\u001b[0;32m--> 546\u001b[0;31m     \u001b[0;32mwith\u001b[0m \u001b[0mPopen\u001b[0m\u001b[0;34m(\u001b[0m\u001b[0;34m*\u001b[0m\u001b[0mpopenargs\u001b[0m\u001b[0;34m,\u001b[0m \u001b[0;34m**\u001b[0m\u001b[0mkwargs\u001b[0m\u001b[0;34m)\u001b[0m \u001b[0;32mas\u001b[0m \u001b[0mprocess\u001b[0m\u001b[0;34m:\u001b[0m\u001b[0;34m\u001b[0m\u001b[0;34m\u001b[0m\u001b[0m\n\u001b[0m\u001b[1;32m    547\u001b[0m         \u001b[0;32mtry\u001b[0m\u001b[0;34m:\u001b[0m\u001b[0;34m\u001b[0m\u001b[0;34m\u001b[0m\u001b[0m\n\u001b[1;32m    548\u001b[0m             \u001b[0mstdout\u001b[0m\u001b[0;34m,\u001b[0m \u001b[0mstderr\u001b[0m \u001b[0;34m=\u001b[0m \u001b[0mprocess\u001b[0m\u001b[0;34m.\u001b[0m\u001b[0mcommunicate\u001b[0m\u001b[0;34m(\u001b[0m\u001b[0minput\u001b[0m\u001b[0;34m,\u001b[0m \u001b[0mtimeout\u001b[0m\u001b[0;34m=\u001b[0m\u001b[0mtimeout\u001b[0m\u001b[0;34m)\u001b[0m\u001b[0;34m\u001b[0m\u001b[0;34m\u001b[0m\u001b[0m\n",
      "\u001b[0;32m/usr/lib/python3.11/subprocess.py\u001b[0m in \u001b[0;36m__init__\u001b[0;34m(self, args, bufsize, executable, stdin, stdout, stderr, preexec_fn, close_fds, shell, cwd, env, universal_newlines, startupinfo, creationflags, restore_signals, start_new_session, pass_fds, user, group, extra_groups, encoding, errors, text, umask, pipesize, process_group)\u001b[0m\n\u001b[1;32m   1020\u001b[0m                             encoding=encoding, errors=errors)\n\u001b[1;32m   1021\u001b[0m \u001b[0;34m\u001b[0m\u001b[0m\n\u001b[0;32m-> 1022\u001b[0;31m             self._execute_child(args, executable, preexec_fn, close_fds,\n\u001b[0m\u001b[1;32m   1023\u001b[0m                                 \u001b[0mpass_fds\u001b[0m\u001b[0;34m,\u001b[0m \u001b[0mcwd\u001b[0m\u001b[0;34m,\u001b[0m \u001b[0menv\u001b[0m\u001b[0;34m,\u001b[0m\u001b[0;34m\u001b[0m\u001b[0;34m\u001b[0m\u001b[0m\n\u001b[1;32m   1024\u001b[0m                                 \u001b[0mstartupinfo\u001b[0m\u001b[0;34m,\u001b[0m \u001b[0mcreationflags\u001b[0m\u001b[0;34m,\u001b[0m \u001b[0mshell\u001b[0m\u001b[0;34m,\u001b[0m\u001b[0;34m\u001b[0m\u001b[0;34m\u001b[0m\u001b[0m\n",
      "\u001b[0;32m/usr/lib/python3.11/subprocess.py\u001b[0m in \u001b[0;36m_execute_child\u001b[0;34m(self, args, executable, preexec_fn, close_fds, pass_fds, cwd, env, startupinfo, creationflags, shell, p2cread, p2cwrite, c2pread, c2pwrite, errread, errwrite, restore_signals, gid, gids, uid, umask, start_new_session, process_group)\u001b[0m\n\u001b[1;32m   1897\u001b[0m                     \u001b[0;32mif\u001b[0m \u001b[0merrno_num\u001b[0m \u001b[0;34m!=\u001b[0m \u001b[0;36m0\u001b[0m\u001b[0;34m:\u001b[0m\u001b[0;34m\u001b[0m\u001b[0;34m\u001b[0m\u001b[0m\n\u001b[1;32m   1898\u001b[0m                         \u001b[0merr_msg\u001b[0m \u001b[0;34m=\u001b[0m \u001b[0mos\u001b[0m\u001b[0;34m.\u001b[0m\u001b[0mstrerror\u001b[0m\u001b[0;34m(\u001b[0m\u001b[0merrno_num\u001b[0m\u001b[0;34m)\u001b[0m\u001b[0;34m\u001b[0m\u001b[0;34m\u001b[0m\u001b[0m\n\u001b[0;32m-> 1899\u001b[0;31m                     \u001b[0;32mraise\u001b[0m \u001b[0mchild_exception_type\u001b[0m\u001b[0;34m(\u001b[0m\u001b[0merrno_num\u001b[0m\u001b[0;34m,\u001b[0m \u001b[0merr_msg\u001b[0m\u001b[0;34m,\u001b[0m \u001b[0merr_filename\u001b[0m\u001b[0;34m)\u001b[0m\u001b[0;34m\u001b[0m\u001b[0;34m\u001b[0m\u001b[0m\n\u001b[0m\u001b[1;32m   1900\u001b[0m                 \u001b[0;32mraise\u001b[0m \u001b[0mchild_exception_type\u001b[0m\u001b[0;34m(\u001b[0m\u001b[0merr_msg\u001b[0m\u001b[0;34m)\u001b[0m\u001b[0;34m\u001b[0m\u001b[0;34m\u001b[0m\u001b[0m\n\u001b[1;32m   1901\u001b[0m \u001b[0;34m\u001b[0m\u001b[0m\n",
      "\u001b[0;31mFileNotFoundError\u001b[0m: [Errno 2] No such file or directory: 'ls -la'"
     ]
    }
   ],
   "source": [
    "subprocess.run('ls -la')"
   ]
  },
  {
   "cell_type": "markdown",
   "metadata": {},
   "source": [
    "method 1 to solve this error (the best)"
   ]
  },
  {
   "cell_type": "code",
   "execution_count": 10,
   "metadata": {},
   "outputs": [
    {
     "name": "stdout",
     "output_type": "stream",
     "text": [
      "total 48\n",
      "drwxrwxr-x 3 yashkathe yashkathe  4096 Dec 16 23:28 .\n",
      "drwxrwxr-x 4 yashkathe yashkathe  4096 Dec 15 13:10 ..\n",
      "-rw-rw-r-- 1 yashkathe yashkathe     2 Dec 15 13:17 demo.txt\n",
      "drwxrwxr-x 8 yashkathe yashkathe  4096 Dec 16 23:29 .git\n",
      "-rw-rw-r-- 1 yashkathe yashkathe    16 Dec 16 23:27 .gitignore\n",
      "-rw-rw-r-- 1 yashkathe yashkathe 12110 Dec 16 23:31 module-os.ipynb\n",
      "-rw-rw-r-- 1 yashkathe yashkathe 10279 Dec 16 23:42 module-subprocess.ipynb\n",
      "-rw-rw-r-- 1 yashkathe yashkathe    88 Dec 16 23:29 README.md\n"
     ]
    },
    {
     "data": {
      "text/plain": [
       "CompletedProcess(args='ls -la', returncode=0)"
      ]
     },
     "execution_count": 10,
     "metadata": {},
     "output_type": "execute_result"
    }
   ],
   "source": [
    "subprocess.run('ls -la', shell=True)"
   ]
  },
  {
   "cell_type": "markdown",
   "metadata": {},
   "source": [
    "method 2 to solve this error"
   ]
  },
  {
   "cell_type": "code",
   "execution_count": 11,
   "metadata": {},
   "outputs": [
    {
     "name": "stdout",
     "output_type": "stream",
     "text": [
      "total 48\n",
      "drwxrwxr-x 3 yashkathe yashkathe  4096 Dec 16 23:28 .\n",
      "drwxrwxr-x 4 yashkathe yashkathe  4096 Dec 15 13:10 ..\n",
      "-rw-rw-r-- 1 yashkathe yashkathe     2 Dec 15 13:17 demo.txt\n",
      "drwxrwxr-x 8 yashkathe yashkathe  4096 Dec 16 23:29 .git\n",
      "-rw-rw-r-- 1 yashkathe yashkathe    16 Dec 16 23:27 .gitignore\n",
      "-rw-rw-r-- 1 yashkathe yashkathe 12110 Dec 16 23:31 module-os.ipynb\n",
      "-rw-rw-r-- 1 yashkathe yashkathe 10279 Dec 16 23:42 module-subprocess.ipynb\n",
      "-rw-rw-r-- 1 yashkathe yashkathe    88 Dec 16 23:29 README.md\n"
     ]
    },
    {
     "data": {
      "text/plain": [
       "CompletedProcess(args=['ls', '-la'], returncode=0)"
      ]
     },
     "execution_count": 11,
     "metadata": {},
     "output_type": "execute_result"
    }
   ],
   "source": [
    "subprocess.run(['ls', '-la'])"
   ]
  },
  {
   "cell_type": "markdown",
   "metadata": {},
   "source": [
    "## list arguments"
   ]
  },
  {
   "cell_type": "code",
   "execution_count": 12,
   "metadata": {},
   "outputs": [
    {
     "name": "stdout",
     "output_type": "stream",
     "text": [
      "total 48\n",
      "drwxrwxr-x 3 yashkathe yashkathe  4096 Dec 16 23:28 .\n",
      "drwxrwxr-x 4 yashkathe yashkathe  4096 Dec 15 13:10 ..\n",
      "-rw-rw-r-- 1 yashkathe yashkathe     2 Dec 15 13:17 demo.txt\n",
      "drwxrwxr-x 8 yashkathe yashkathe  4096 Dec 16 23:29 .git\n",
      "-rw-rw-r-- 1 yashkathe yashkathe    16 Dec 16 23:27 .gitignore\n",
      "-rw-rw-r-- 1 yashkathe yashkathe 12110 Dec 16 23:31 module-os.ipynb\n",
      "-rw-rw-r-- 1 yashkathe yashkathe 10279 Dec 16 23:42 module-subprocess.ipynb\n",
      "-rw-rw-r-- 1 yashkathe yashkathe    88 Dec 16 23:29 README.md\n"
     ]
    }
   ],
   "source": [
    "p1 = subprocess.run('ls -la', shell=True)"
   ]
  },
  {
   "cell_type": "code",
   "execution_count": 13,
   "metadata": {},
   "outputs": [
    {
     "data": {
      "text/plain": [
       "'ls -la'"
      ]
     },
     "execution_count": 13,
     "metadata": {},
     "output_type": "execute_result"
    }
   ],
   "source": [
    "p1.args"
   ]
  },
  {
   "cell_type": "markdown",
   "metadata": {},
   "source": [
    "## return code"
   ]
  },
  {
   "cell_type": "code",
   "execution_count": 14,
   "metadata": {},
   "outputs": [
    {
     "data": {
      "text/plain": [
       "0"
      ]
     },
     "execution_count": 14,
     "metadata": {},
     "output_type": "execute_result"
    }
   ],
   "source": [
    "p1.returncode"
   ]
  },
  {
   "cell_type": "markdown",
   "metadata": {},
   "source": [
    "## stdout\n"
   ]
  },
  {
   "cell_type": "code",
   "execution_count": 16,
   "metadata": {},
   "outputs": [],
   "source": [
    "p1.stdout"
   ]
  },
  {
   "cell_type": "markdown",
   "metadata": {},
   "source": [
    "we get none? becuase we are sending stdout to terminal  \n",
    "**but we want to capture that instead !**"
   ]
  },
  {
   "cell_type": "markdown",
   "metadata": {},
   "source": [
    "## capture output"
   ]
  },
  {
   "cell_type": "code",
   "execution_count": 22,
   "metadata": {},
   "outputs": [],
   "source": [
    "p1 = subprocess.run('ls -la', shell=True, capture_output=True)"
   ]
  },
  {
   "cell_type": "code",
   "execution_count": 34,
   "metadata": {},
   "outputs": [
    {
     "name": "stdout",
     "output_type": "stream",
     "text": [
      "b'total 48\\ndrwxrwxr-x 3 yashkathe yashkathe  4096 Dec 16 23:28 .\\ndrwxrwxr-x 4 yashkathe yashkathe  4096 Dec 15 13:10 ..\\n-rw-rw-r-- 1 yashkathe yashkathe     2 Dec 15 13:17 demo.txt\\ndrwxrwxr-x 8 yashkathe yashkathe  4096 Dec 16 23:29 .git\\n-rw-rw-r-- 1 yashkathe yashkathe    16 Dec 16 23:27 .gitignore\\n-rw-rw-r-- 1 yashkathe yashkathe 12110 Dec 16 23:31 module-os.ipynb\\n-rw-rw-r-- 1 yashkathe yashkathe 10279 Dec 16 23:42 module-subprocess.ipynb\\n-rw-rw-r-- 1 yashkathe yashkathe    88 Dec 16 23:29 README.md\\n'\n"
     ]
    }
   ],
   "source": [
    "print(p1.stdout)"
   ]
  },
  {
   "cell_type": "markdown",
   "metadata": {},
   "source": [
    "**succesfully captured output!**"
   ]
  },
  {
   "cell_type": "markdown",
   "metadata": {},
   "source": [
    "but here its not displayed correctly because it was captured as bytes  \n",
    "**so how to covert it to string?**"
   ]
  },
  {
   "cell_type": "markdown",
   "metadata": {},
   "source": [
    "method 1 - pass extra argument"
   ]
  },
  {
   "cell_type": "code",
   "execution_count": 27,
   "metadata": {},
   "outputs": [],
   "source": [
    "p1 = subprocess.run('ls -la', shell=True, capture_output=True, text=True)"
   ]
  },
  {
   "cell_type": "code",
   "execution_count": 29,
   "metadata": {},
   "outputs": [
    {
     "name": "stdout",
     "output_type": "stream",
     "text": [
      "total 48\n",
      "drwxrwxr-x 3 yashkathe yashkathe  4096 Dec 16 23:28 .\n",
      "drwxrwxr-x 4 yashkathe yashkathe  4096 Dec 15 13:10 ..\n",
      "-rw-rw-r-- 1 yashkathe yashkathe     2 Dec 15 13:17 demo.txt\n",
      "drwxrwxr-x 8 yashkathe yashkathe  4096 Dec 16 23:29 .git\n",
      "-rw-rw-r-- 1 yashkathe yashkathe    16 Dec 16 23:27 .gitignore\n",
      "-rw-rw-r-- 1 yashkathe yashkathe 12110 Dec 16 23:31 module-os.ipynb\n",
      "-rw-rw-r-- 1 yashkathe yashkathe 10279 Dec 16 23:42 module-subprocess.ipynb\n",
      "-rw-rw-r-- 1 yashkathe yashkathe    88 Dec 16 23:29 README.md\n",
      "\n"
     ]
    }
   ],
   "source": [
    "print(p1.stdout)"
   ]
  },
  {
   "cell_type": "markdown",
   "metadata": {},
   "source": [
    "method 2 - use decode on stdout"
   ]
  },
  {
   "cell_type": "code",
   "execution_count": 32,
   "metadata": {},
   "outputs": [],
   "source": [
    "p1 = subprocess.run('ls -la', shell=True, capture_output=True)"
   ]
  },
  {
   "cell_type": "code",
   "execution_count": 33,
   "metadata": {},
   "outputs": [
    {
     "name": "stdout",
     "output_type": "stream",
     "text": [
      "total 48\n",
      "drwxrwxr-x 3 yashkathe yashkathe  4096 Dec 16 23:28 .\n",
      "drwxrwxr-x 4 yashkathe yashkathe  4096 Dec 15 13:10 ..\n",
      "-rw-rw-r-- 1 yashkathe yashkathe     2 Dec 15 13:17 demo.txt\n",
      "drwxrwxr-x 8 yashkathe yashkathe  4096 Dec 16 23:29 .git\n",
      "-rw-rw-r-- 1 yashkathe yashkathe    16 Dec 16 23:27 .gitignore\n",
      "-rw-rw-r-- 1 yashkathe yashkathe 12110 Dec 16 23:31 module-os.ipynb\n",
      "-rw-rw-r-- 1 yashkathe yashkathe 10279 Dec 16 23:42 module-subprocess.ipynb\n",
      "-rw-rw-r-- 1 yashkathe yashkathe    88 Dec 16 23:29 README.md\n",
      "\n"
     ]
    }
   ],
   "source": [
    "print(p1.stdout.decode())"
   ]
  },
  {
   "cell_type": "markdown",
   "metadata": {},
   "source": [
    "method 3 - redirect to stdout using PIPE"
   ]
  },
  {
   "cell_type": "code",
   "execution_count": 35,
   "metadata": {},
   "outputs": [],
   "source": [
    "p1 = subprocess.run('ls -la', shell=True, stdout=subprocess.PIPE, text=True)"
   ]
  },
  {
   "cell_type": "code",
   "execution_count": 38,
   "metadata": {},
   "outputs": [
    {
     "name": "stdout",
     "output_type": "stream",
     "text": [
      "total 52\n",
      "drwxrwxr-x 3 yashkathe yashkathe  4096 Dec 16 23:28 .\n",
      "drwxrwxr-x 4 yashkathe yashkathe  4096 Dec 15 13:10 ..\n",
      "-rw-rw-r-- 1 yashkathe yashkathe     2 Dec 15 13:17 demo.txt\n",
      "drwxrwxr-x 8 yashkathe yashkathe  4096 Dec 16 23:29 .git\n",
      "-rw-rw-r-- 1 yashkathe yashkathe    16 Dec 16 23:27 .gitignore\n",
      "-rw-rw-r-- 1 yashkathe yashkathe 12107 Dec 16 23:52 module-os.ipynb\n",
      "-rw-rw-r-- 1 yashkathe yashkathe 14794 Dec 16 23:54 module-subprocess.ipynb\n",
      "-rw-rw-r-- 1 yashkathe yashkathe    88 Dec 16 23:29 README.md\n",
      "\n"
     ]
    }
   ],
   "source": [
    "print(p1.stdout)"
   ]
  },
  {
   "cell_type": "markdown",
   "metadata": {},
   "source": [
    "## write to a file\n",
    "\n",
    "eg: for logging"
   ]
  },
  {
   "cell_type": "code",
   "execution_count": 39,
   "metadata": {},
   "outputs": [],
   "source": [
    "# open file in write 'w' mode\n",
    "with open('output.txt', 'w') as file:\n",
    "    p1 = subprocess.run('ls -la', shell=True, stdout=file, text=True)"
   ]
  },
  {
   "cell_type": "code",
   "execution_count": 47,
   "metadata": {},
   "outputs": [],
   "source": [
    "o1 = subprocess.run('cat output.txt', shell=True, stdout=subprocess.PIPE, text=True)"
   ]
  },
  {
   "cell_type": "code",
   "execution_count": 48,
   "metadata": {},
   "outputs": [
    {
     "name": "stdout",
     "output_type": "stream",
     "text": [
      "total 52\n",
      "drwxrwxr-x 3 yashkathe yashkathe  4096 Dec 16 23:57 .\n",
      "drwxrwxr-x 4 yashkathe yashkathe  4096 Dec 15 13:10 ..\n",
      "-rw-rw-r-- 1 yashkathe yashkathe     2 Dec 15 13:17 demo.txt\n",
      "drwxrwxr-x 8 yashkathe yashkathe  4096 Dec 16 23:29 .git\n",
      "-rw-rw-r-- 1 yashkathe yashkathe    16 Dec 16 23:27 .gitignore\n",
      "-rw-rw-r-- 1 yashkathe yashkathe 12107 Dec 16 23:52 module-os.ipynb\n",
      "-rw-rw-r-- 1 yashkathe yashkathe 14794 Dec 16 23:54 module-subprocess.ipynb\n",
      "-rw-rw-r-- 1 yashkathe yashkathe     0 Dec 16 23:57 output.txt\n",
      "-rw-rw-r-- 1 yashkathe yashkathe    88 Dec 16 23:29 README.md\n",
      "\n"
     ]
    }
   ],
   "source": [
    "print(o1.stdout)"
   ]
  },
  {
   "cell_type": "markdown",
   "metadata": {},
   "source": [
    "## errors"
   ]
  },
  {
   "cell_type": "markdown",
   "metadata": {},
   "source": [
    "python will not throw an error if external command fails  \n",
    "it just returns non zero error code"
   ]
  },
  {
   "cell_type": "code",
   "execution_count": 55,
   "metadata": {},
   "outputs": [],
   "source": [
    "p1 = subprocess.run('ls -la doesnt-exist-folder', shell=True, capture_output=True, text=True)"
   ]
  },
  {
   "cell_type": "code",
   "execution_count": 56,
   "metadata": {},
   "outputs": [
    {
     "data": {
      "text/plain": [
       "2"
      ]
     },
     "execution_count": 56,
     "metadata": {},
     "output_type": "execute_result"
    }
   ],
   "source": [
    "p1.returncode"
   ]
  },
  {
   "cell_type": "code",
   "execution_count": 58,
   "metadata": {},
   "outputs": [
    {
     "name": "stdout",
     "output_type": "stream",
     "text": [
      "ls: cannot access 'doesnt-exist-folder': No such file or directory\n",
      "\n"
     ]
    }
   ],
   "source": [
    "print(p1.stderr)"
   ]
  },
  {
   "cell_type": "markdown",
   "metadata": {},
   "source": [
    "throw exception - use check=True"
   ]
  },
  {
   "cell_type": "code",
   "execution_count": 59,
   "metadata": {},
   "outputs": [
    {
     "ename": "CalledProcessError",
     "evalue": "Command 'ls -la doesnt-exist-folder' returned non-zero exit status 2.",
     "output_type": "error",
     "traceback": [
      "\u001b[0;31m---------------------------------------------------------------------------\u001b[0m",
      "\u001b[0;31mCalledProcessError\u001b[0m                        Traceback (most recent call last)",
      "\u001b[0;32m/tmp/ipykernel_180372/868763837.py\u001b[0m in \u001b[0;36m<module>\u001b[0;34m\u001b[0m\n\u001b[0;32m----> 1\u001b[0;31m \u001b[0mp1\u001b[0m \u001b[0;34m=\u001b[0m \u001b[0msubprocess\u001b[0m\u001b[0;34m.\u001b[0m\u001b[0mrun\u001b[0m\u001b[0;34m(\u001b[0m\u001b[0;34m'ls -la doesnt-exist-folder'\u001b[0m\u001b[0;34m,\u001b[0m \u001b[0mshell\u001b[0m\u001b[0;34m=\u001b[0m\u001b[0;32mTrue\u001b[0m\u001b[0;34m,\u001b[0m \u001b[0mcapture_output\u001b[0m\u001b[0;34m=\u001b[0m\u001b[0;32mTrue\u001b[0m\u001b[0;34m,\u001b[0m \u001b[0mtext\u001b[0m\u001b[0;34m=\u001b[0m\u001b[0;32mTrue\u001b[0m\u001b[0;34m,\u001b[0m \u001b[0mcheck\u001b[0m\u001b[0;34m=\u001b[0m\u001b[0;32mTrue\u001b[0m\u001b[0;34m)\u001b[0m\u001b[0;34m\u001b[0m\u001b[0;34m\u001b[0m\u001b[0m\n\u001b[0m",
      "\u001b[0;32m/usr/lib/python3.11/subprocess.py\u001b[0m in \u001b[0;36mrun\u001b[0;34m(input, capture_output, timeout, check, *popenargs, **kwargs)\u001b[0m\n\u001b[1;32m    567\u001b[0m         \u001b[0mretcode\u001b[0m \u001b[0;34m=\u001b[0m \u001b[0mprocess\u001b[0m\u001b[0;34m.\u001b[0m\u001b[0mpoll\u001b[0m\u001b[0;34m(\u001b[0m\u001b[0;34m)\u001b[0m\u001b[0;34m\u001b[0m\u001b[0;34m\u001b[0m\u001b[0m\n\u001b[1;32m    568\u001b[0m         \u001b[0;32mif\u001b[0m \u001b[0mcheck\u001b[0m \u001b[0;32mand\u001b[0m \u001b[0mretcode\u001b[0m\u001b[0;34m:\u001b[0m\u001b[0;34m\u001b[0m\u001b[0;34m\u001b[0m\u001b[0m\n\u001b[0;32m--> 569\u001b[0;31m             raise CalledProcessError(retcode, process.args,\n\u001b[0m\u001b[1;32m    570\u001b[0m                                      output=stdout, stderr=stderr)\n\u001b[1;32m    571\u001b[0m     \u001b[0;32mreturn\u001b[0m \u001b[0mCompletedProcess\u001b[0m\u001b[0;34m(\u001b[0m\u001b[0mprocess\u001b[0m\u001b[0;34m.\u001b[0m\u001b[0margs\u001b[0m\u001b[0;34m,\u001b[0m \u001b[0mretcode\u001b[0m\u001b[0;34m,\u001b[0m \u001b[0mstdout\u001b[0m\u001b[0;34m,\u001b[0m \u001b[0mstderr\u001b[0m\u001b[0;34m)\u001b[0m\u001b[0;34m\u001b[0m\u001b[0;34m\u001b[0m\u001b[0m\n",
      "\u001b[0;31mCalledProcessError\u001b[0m: Command 'ls -la doesnt-exist-folder' returned non-zero exit status 2."
     ]
    }
   ],
   "source": [
    "p1 = subprocess.run('ls -la doesnt-exist-folder', shell=True, capture_output=True, text=True, check=True)"
   ]
  },
  {
   "cell_type": "markdown",
   "metadata": {},
   "source": [
    "## ignore the error\n",
    "using DEVNULL"
   ]
  },
  {
   "cell_type": "code",
   "execution_count": 61,
   "metadata": {},
   "outputs": [],
   "source": [
    "p1 = subprocess.run('ls -la doesnt-exist-folder', shell=True, stderr=subprocess.DEVNULL)"
   ]
  },
  {
   "cell_type": "code",
   "execution_count": 62,
   "metadata": {},
   "outputs": [],
   "source": [
    "p1.stderr"
   ]
  },
  {
   "cell_type": "markdown",
   "metadata": {},
   "source": [
    "## changing the input to commands we run input=p1.stdout"
   ]
  },
  {
   "cell_type": "markdown",
   "metadata": {},
   "source": [
    "using output of one command as input to another command"
   ]
  },
  {
   "cell_type": "code",
   "execution_count": 67,
   "metadata": {},
   "outputs": [],
   "source": [
    "p1 = subprocess.run('cat demo.txt', shell=True, capture_output=True, text=True)"
   ]
  },
  {
   "cell_type": "code",
   "execution_count": 68,
   "metadata": {},
   "outputs": [
    {
     "name": "stdout",
     "output_type": "stream",
     "text": [
      "hi\n",
      "this\n",
      "is \n",
      "a\n",
      "test\n",
      "file\n"
     ]
    }
   ],
   "source": [
    "print(p1.stdout)"
   ]
  },
  {
   "cell_type": "markdown",
   "metadata": {},
   "source": [
    "grep -n 'test' demo.txt"
   ]
  },
  {
   "cell_type": "code",
   "execution_count": 69,
   "metadata": {},
   "outputs": [],
   "source": [
    "p2 = subprocess.run('grep -n \"test\"', shell=True, capture_output=True, text=True, input = p1.stdout)"
   ]
  },
  {
   "cell_type": "code",
   "execution_count": 70,
   "metadata": {},
   "outputs": [
    {
     "name": "stdout",
     "output_type": "stream",
     "text": [
      "5:test\n",
      "\n"
     ]
    }
   ],
   "source": [
    "print(p2.stdout)"
   ]
  },
  {
   "cell_type": "markdown",
   "metadata": {},
   "source": [
    "or we can just using pipes"
   ]
  },
  {
   "cell_type": "code",
   "execution_count": 71,
   "metadata": {},
   "outputs": [],
   "source": [
    "p1 = subprocess.run('cat demo.txt | grep -n \"test\"', shell=True, capture_output=True, text=True)"
   ]
  },
  {
   "cell_type": "code",
   "execution_count": 73,
   "metadata": {},
   "outputs": [
    {
     "name": "stdout",
     "output_type": "stream",
     "text": [
      "5:test\n",
      "\n"
     ]
    }
   ],
   "source": [
    "print(p1.stdout)"
   ]
  }
 ],
 "metadata": {
  "kernelspec": {
   "display_name": "Python 3",
   "language": "python",
   "name": "python3"
  },
  "language_info": {
   "codemirror_mode": {
    "name": "ipython",
    "version": 3
   },
   "file_extension": ".py",
   "mimetype": "text/x-python",
   "name": "python",
   "nbconvert_exporter": "python",
   "pygments_lexer": "ipython3",
   "version": "3.11.0rc1"
  }
 },
 "nbformat": 4,
 "nbformat_minor": 2
}
