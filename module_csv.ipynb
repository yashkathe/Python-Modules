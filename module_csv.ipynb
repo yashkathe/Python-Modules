{
 "cells": [
  {
   "cell_type": "markdown",
   "metadata": {},
   "source": [
    "## Read and Parse CSV"
   ]
  },
  {
   "cell_type": "code",
   "execution_count": 4,
   "metadata": {},
   "outputs": [],
   "source": [
    "import csv"
   ]
  },
  {
   "cell_type": "markdown",
   "metadata": {},
   "source": [
    "## read file"
   ]
  },
  {
   "cell_type": "code",
   "execution_count": 7,
   "metadata": {},
   "outputs": [
    {
     "name": "stdout",
     "output_type": "stream",
     "text": [
      "<_csv.reader object at 0x7958ff58aa40>\n"
     ]
    }
   ],
   "source": [
    "with open('names.csv', 'r') as f:\n",
    "    csv_reader = csv.reader(f)\n",
    "\n",
    "    print(csv_reader) # can't directly use this, we need to loop over "
   ]
  },
  {
   "cell_type": "code",
   "execution_count": 8,
   "metadata": {},
   "outputs": [
    {
     "name": "stdout",
     "output_type": "stream",
     "text": [
      "['first_name', 'last_name', 'email']\n",
      "['John', 'Doe', 'john-doe@bogusemail.com']\n",
      "['Mary', 'Smith-Robinson', 'maryjacobs@bogusemail.com']\n",
      "['Dave', 'Smith', 'davesmith@bogusemail.com']\n",
      "['Jane', 'Stuart', 'janestuart@bogusemail.com']\n",
      "['Tom', 'Wright', 'tomwright@bogusemail.com']\n",
      "['Steve', 'Robinson', 'steverobinson@bogusemail.com']\n",
      "['Nicole', 'Jacobs', 'nicolejacobs@bogusemail.com']\n",
      "['Jane', 'Wright', 'janewright@bogusemail.com']\n",
      "['Jane', 'Doe', 'janedoe@bogusemail.com']\n",
      "['Kurt', 'Wright', 'kurtwright@bogusemail.com']\n",
      "['Kurt', 'Robinson', 'kurtrobinson@bogusemail.com']\n",
      "['Jane', 'Jenkins', 'janejenkins@bogusemail.com']\n",
      "['Neil', 'Robinson', 'neilrobinson@bogusemail.com']\n",
      "['Tom', 'Patterson', 'tompatterson@bogusemail.com']\n",
      "['Sam', 'Jenkins', 'samjenkins@bogusemail.com']\n",
      "['Steve', 'Stuart', 'stevestuart@bogusemail.com']\n",
      "['Maggie', 'Patterson', 'maggiepatterson@bogusemail.com']\n",
      "['Maggie', 'Stuart', 'maggiestuart@bogusemail.com']\n",
      "['Jane', 'Doe', 'janedoe@bogusemail.com']\n",
      "['Steve', 'Patterson', 'stevepatterson@bogusemail.com']\n",
      "['Dave', 'Smith', 'davesmith@bogusemail.com']\n",
      "['Sam', 'Wilks', 'samwilks@bogusemail.com']\n",
      "['Kurt', 'Jefferson', 'kurtjefferson@bogusemail.com']\n",
      "['Sam', 'Stuart', 'samstuart@bogusemail.com']\n",
      "['Jane', 'Stuart', 'janestuart@bogusemail.com']\n",
      "['Dave', 'Davis', 'davedavis@bogusemail.com']\n",
      "['Sam', 'Patterson', 'sampatterson@bogusemail.com']\n",
      "['Tom', 'Jefferson', 'tomjefferson@bogusemail.com']\n",
      "['Jane', 'Stuart', 'janestuart@bogusemail.com']\n",
      "['Maggie', 'Jefferson', 'maggiejefferson@bogusemail.com']\n",
      "['Mary', 'Wilks', 'marywilks@bogusemail.com']\n",
      "['Neil', 'Patterson', 'neilpatterson@bogusemail.com']\n",
      "['Corey', 'Davis', 'coreydavis@bogusemail.com']\n",
      "['Steve', 'Jacobs', 'stevejacobs@bogusemail.com']\n",
      "['Jane', 'Jenkins', 'janejenkins@bogusemail.com']\n",
      "['John', 'Jacobs', 'johnjacobs@bogusemail.com']\n",
      "['Neil', 'Smith', 'neilsmith@bogusemail.com']\n",
      "['Corey', 'Wilks', 'coreywilks@bogusemail.com']\n",
      "['Corey', 'Smith', 'coreysmith@bogusemail.com']\n",
      "['Mary', 'Patterson', 'marypatterson@bogusemail.com']\n",
      "['Jane', 'Stuart', 'janestuart@bogusemail.com']\n",
      "['Travis', 'Arnold', 'travisarnold@bogusemail.com']\n",
      "['John', 'Robinson', 'johnrobinson@bogusemail.com']\n",
      "['Travis', 'Arnold', 'travisarnold@bogusemail.com']\n"
     ]
    }
   ],
   "source": [
    "with open('names.csv', 'r') as f:\n",
    "    csv_reader = csv.reader(f)\n",
    "\n",
    "    for line in csv_reader:\n",
    "        print(line)"
   ]
  },
  {
   "cell_type": "markdown",
   "metadata": {},
   "source": [
    "## print 1st col only"
   ]
  },
  {
   "cell_type": "code",
   "execution_count": 9,
   "metadata": {},
   "outputs": [
    {
     "name": "stdout",
     "output_type": "stream",
     "text": [
      "first_name\n",
      "John\n",
      "Mary\n",
      "Dave\n",
      "Jane\n",
      "Tom\n",
      "Steve\n",
      "Nicole\n",
      "Jane\n",
      "Jane\n",
      "Kurt\n",
      "Kurt\n",
      "Jane\n",
      "Neil\n",
      "Tom\n",
      "Sam\n",
      "Steve\n",
      "Maggie\n",
      "Maggie\n",
      "Jane\n",
      "Steve\n",
      "Dave\n",
      "Sam\n",
      "Kurt\n",
      "Sam\n",
      "Jane\n",
      "Dave\n",
      "Sam\n",
      "Tom\n",
      "Jane\n",
      "Maggie\n",
      "Mary\n",
      "Neil\n",
      "Corey\n",
      "Steve\n",
      "Jane\n",
      "John\n",
      "Neil\n",
      "Corey\n",
      "Corey\n",
      "Mary\n",
      "Jane\n",
      "Travis\n",
      "John\n",
      "Travis\n"
     ]
    }
   ],
   "source": [
    "with open('names.csv', 'r') as f:\n",
    "    csv_reader = csv.reader(f)\n",
    "\n",
    "    for line in csv_reader:\n",
    "        print(line[0])"
   ]
  },
  {
   "cell_type": "markdown",
   "metadata": {},
   "source": [
    "## skip first row of column names"
   ]
  },
  {
   "cell_type": "code",
   "execution_count": 10,
   "metadata": {},
   "outputs": [
    {
     "name": "stdout",
     "output_type": "stream",
     "text": [
      "['John', 'Doe', 'john-doe@bogusemail.com']\n",
      "['Mary', 'Smith-Robinson', 'maryjacobs@bogusemail.com']\n",
      "['Dave', 'Smith', 'davesmith@bogusemail.com']\n",
      "['Jane', 'Stuart', 'janestuart@bogusemail.com']\n",
      "['Tom', 'Wright', 'tomwright@bogusemail.com']\n",
      "['Steve', 'Robinson', 'steverobinson@bogusemail.com']\n",
      "['Nicole', 'Jacobs', 'nicolejacobs@bogusemail.com']\n",
      "['Jane', 'Wright', 'janewright@bogusemail.com']\n",
      "['Jane', 'Doe', 'janedoe@bogusemail.com']\n",
      "['Kurt', 'Wright', 'kurtwright@bogusemail.com']\n",
      "['Kurt', 'Robinson', 'kurtrobinson@bogusemail.com']\n",
      "['Jane', 'Jenkins', 'janejenkins@bogusemail.com']\n",
      "['Neil', 'Robinson', 'neilrobinson@bogusemail.com']\n",
      "['Tom', 'Patterson', 'tompatterson@bogusemail.com']\n",
      "['Sam', 'Jenkins', 'samjenkins@bogusemail.com']\n",
      "['Steve', 'Stuart', 'stevestuart@bogusemail.com']\n",
      "['Maggie', 'Patterson', 'maggiepatterson@bogusemail.com']\n",
      "['Maggie', 'Stuart', 'maggiestuart@bogusemail.com']\n",
      "['Jane', 'Doe', 'janedoe@bogusemail.com']\n",
      "['Steve', 'Patterson', 'stevepatterson@bogusemail.com']\n",
      "['Dave', 'Smith', 'davesmith@bogusemail.com']\n",
      "['Sam', 'Wilks', 'samwilks@bogusemail.com']\n",
      "['Kurt', 'Jefferson', 'kurtjefferson@bogusemail.com']\n",
      "['Sam', 'Stuart', 'samstuart@bogusemail.com']\n",
      "['Jane', 'Stuart', 'janestuart@bogusemail.com']\n",
      "['Dave', 'Davis', 'davedavis@bogusemail.com']\n",
      "['Sam', 'Patterson', 'sampatterson@bogusemail.com']\n",
      "['Tom', 'Jefferson', 'tomjefferson@bogusemail.com']\n",
      "['Jane', 'Stuart', 'janestuart@bogusemail.com']\n",
      "['Maggie', 'Jefferson', 'maggiejefferson@bogusemail.com']\n",
      "['Mary', 'Wilks', 'marywilks@bogusemail.com']\n",
      "['Neil', 'Patterson', 'neilpatterson@bogusemail.com']\n",
      "['Corey', 'Davis', 'coreydavis@bogusemail.com']\n",
      "['Steve', 'Jacobs', 'stevejacobs@bogusemail.com']\n",
      "['Jane', 'Jenkins', 'janejenkins@bogusemail.com']\n",
      "['John', 'Jacobs', 'johnjacobs@bogusemail.com']\n",
      "['Neil', 'Smith', 'neilsmith@bogusemail.com']\n",
      "['Corey', 'Wilks', 'coreywilks@bogusemail.com']\n",
      "['Corey', 'Smith', 'coreysmith@bogusemail.com']\n",
      "['Mary', 'Patterson', 'marypatterson@bogusemail.com']\n",
      "['Jane', 'Stuart', 'janestuart@bogusemail.com']\n",
      "['Travis', 'Arnold', 'travisarnold@bogusemail.com']\n",
      "['John', 'Robinson', 'johnrobinson@bogusemail.com']\n",
      "['Travis', 'Arnold', 'travisarnold@bogusemail.com']\n"
     ]
    }
   ],
   "source": [
    "with open('names.csv', 'r') as f:\n",
    "    csv_reader = csv.reader(f)\n",
    "\n",
    "    next(csv_reader) # can be understood better after reading about generators\n",
    "\n",
    "    for line in csv_reader:\n",
    "        print(line)"
   ]
  },
  {
   "cell_type": "markdown",
   "metadata": {},
   "source": [
    "## write new csv file (eg with different delimeter)"
   ]
  },
  {
   "cell_type": "code",
   "execution_count": 27,
   "metadata": {},
   "outputs": [],
   "source": [
    "with open('names.csv', 'r') as f:\n",
    "    csv_reader = csv.reader(f)\n",
    "\n",
    "    with open('names_new.csv', 'w') as wf:\n",
    "        csv_writer = csv.writer(wf, delimiter='\\t')\n",
    "\n",
    "        for line in csv_reader:\n",
    "            csv_writer.writerow(line[1:3])"
   ]
  },
  {
   "cell_type": "markdown",
   "metadata": {},
   "source": [
    "## read csv with correct delimeter"
   ]
  },
  {
   "cell_type": "code",
   "execution_count": 28,
   "metadata": {},
   "outputs": [
    {
     "name": "stdout",
     "output_type": "stream",
     "text": [
      "['last_name', 'email']\n",
      "['Doe', 'john-doe@bogusemail.com']\n",
      "['Smith-Robinson', 'maryjacobs@bogusemail.com']\n",
      "['Smith', 'davesmith@bogusemail.com']\n",
      "['Stuart', 'janestuart@bogusemail.com']\n",
      "['Wright', 'tomwright@bogusemail.com']\n",
      "['Robinson', 'steverobinson@bogusemail.com']\n",
      "['Jacobs', 'nicolejacobs@bogusemail.com']\n",
      "['Wright', 'janewright@bogusemail.com']\n",
      "['Doe', 'janedoe@bogusemail.com']\n",
      "['Wright', 'kurtwright@bogusemail.com']\n",
      "['Robinson', 'kurtrobinson@bogusemail.com']\n",
      "['Jenkins', 'janejenkins@bogusemail.com']\n",
      "['Robinson', 'neilrobinson@bogusemail.com']\n",
      "['Patterson', 'tompatterson@bogusemail.com']\n",
      "['Jenkins', 'samjenkins@bogusemail.com']\n",
      "['Stuart', 'stevestuart@bogusemail.com']\n",
      "['Patterson', 'maggiepatterson@bogusemail.com']\n",
      "['Stuart', 'maggiestuart@bogusemail.com']\n",
      "['Doe', 'janedoe@bogusemail.com']\n",
      "['Patterson', 'stevepatterson@bogusemail.com']\n",
      "['Smith', 'davesmith@bogusemail.com']\n",
      "['Wilks', 'samwilks@bogusemail.com']\n",
      "['Jefferson', 'kurtjefferson@bogusemail.com']\n",
      "['Stuart', 'samstuart@bogusemail.com']\n",
      "['Stuart', 'janestuart@bogusemail.com']\n",
      "['Davis', 'davedavis@bogusemail.com']\n",
      "['Patterson', 'sampatterson@bogusemail.com']\n",
      "['Jefferson', 'tomjefferson@bogusemail.com']\n",
      "['Stuart', 'janestuart@bogusemail.com']\n",
      "['Jefferson', 'maggiejefferson@bogusemail.com']\n",
      "['Wilks', 'marywilks@bogusemail.com']\n",
      "['Patterson', 'neilpatterson@bogusemail.com']\n",
      "['Davis', 'coreydavis@bogusemail.com']\n",
      "['Jacobs', 'stevejacobs@bogusemail.com']\n",
      "['Jenkins', 'janejenkins@bogusemail.com']\n",
      "['Jacobs', 'johnjacobs@bogusemail.com']\n",
      "['Smith', 'neilsmith@bogusemail.com']\n",
      "['Wilks', 'coreywilks@bogusemail.com']\n",
      "['Smith', 'coreysmith@bogusemail.com']\n",
      "['Patterson', 'marypatterson@bogusemail.com']\n",
      "['Stuart', 'janestuart@bogusemail.com']\n",
      "['Arnold', 'travisarnold@bogusemail.com']\n",
      "['Robinson', 'johnrobinson@bogusemail.com']\n",
      "['Arnold', 'travisarnold@bogusemail.com']\n"
     ]
    }
   ],
   "source": [
    "with open('names_new.csv', 'r') as f:\n",
    "    csv_reader = csv.reader(f, delimiter='\\t')\n",
    "\n",
    "    for line in csv_reader:\n",
    "        print(line)"
   ]
  },
  {
   "cell_type": "markdown",
   "metadata": {},
   "source": [
    "## dictionary reader - other type of reader"
   ]
  },
  {
   "cell_type": "markdown",
   "metadata": {},
   "source": [
    "each line is printed as dictionary and the first row is no longer printed with column names"
   ]
  },
  {
   "cell_type": "code",
   "execution_count": 29,
   "metadata": {},
   "outputs": [
    {
     "name": "stdout",
     "output_type": "stream",
     "text": [
      "{'first_name': 'John', 'last_name': 'Doe', 'email': 'john-doe@bogusemail.com'}\n",
      "{'first_name': 'Mary', 'last_name': 'Smith-Robinson', 'email': 'maryjacobs@bogusemail.com'}\n",
      "{'first_name': 'Dave', 'last_name': 'Smith', 'email': 'davesmith@bogusemail.com'}\n",
      "{'first_name': 'Jane', 'last_name': 'Stuart', 'email': 'janestuart@bogusemail.com'}\n",
      "{'first_name': 'Tom', 'last_name': 'Wright', 'email': 'tomwright@bogusemail.com'}\n",
      "{'first_name': 'Steve', 'last_name': 'Robinson', 'email': 'steverobinson@bogusemail.com'}\n",
      "{'first_name': 'Nicole', 'last_name': 'Jacobs', 'email': 'nicolejacobs@bogusemail.com'}\n",
      "{'first_name': 'Jane', 'last_name': 'Wright', 'email': 'janewright@bogusemail.com'}\n",
      "{'first_name': 'Jane', 'last_name': 'Doe', 'email': 'janedoe@bogusemail.com'}\n",
      "{'first_name': 'Kurt', 'last_name': 'Wright', 'email': 'kurtwright@bogusemail.com'}\n",
      "{'first_name': 'Kurt', 'last_name': 'Robinson', 'email': 'kurtrobinson@bogusemail.com'}\n",
      "{'first_name': 'Jane', 'last_name': 'Jenkins', 'email': 'janejenkins@bogusemail.com'}\n",
      "{'first_name': 'Neil', 'last_name': 'Robinson', 'email': 'neilrobinson@bogusemail.com'}\n",
      "{'first_name': 'Tom', 'last_name': 'Patterson', 'email': 'tompatterson@bogusemail.com'}\n",
      "{'first_name': 'Sam', 'last_name': 'Jenkins', 'email': 'samjenkins@bogusemail.com'}\n",
      "{'first_name': 'Steve', 'last_name': 'Stuart', 'email': 'stevestuart@bogusemail.com'}\n",
      "{'first_name': 'Maggie', 'last_name': 'Patterson', 'email': 'maggiepatterson@bogusemail.com'}\n",
      "{'first_name': 'Maggie', 'last_name': 'Stuart', 'email': 'maggiestuart@bogusemail.com'}\n",
      "{'first_name': 'Jane', 'last_name': 'Doe', 'email': 'janedoe@bogusemail.com'}\n",
      "{'first_name': 'Steve', 'last_name': 'Patterson', 'email': 'stevepatterson@bogusemail.com'}\n",
      "{'first_name': 'Dave', 'last_name': 'Smith', 'email': 'davesmith@bogusemail.com'}\n",
      "{'first_name': 'Sam', 'last_name': 'Wilks', 'email': 'samwilks@bogusemail.com'}\n",
      "{'first_name': 'Kurt', 'last_name': 'Jefferson', 'email': 'kurtjefferson@bogusemail.com'}\n",
      "{'first_name': 'Sam', 'last_name': 'Stuart', 'email': 'samstuart@bogusemail.com'}\n",
      "{'first_name': 'Jane', 'last_name': 'Stuart', 'email': 'janestuart@bogusemail.com'}\n",
      "{'first_name': 'Dave', 'last_name': 'Davis', 'email': 'davedavis@bogusemail.com'}\n",
      "{'first_name': 'Sam', 'last_name': 'Patterson', 'email': 'sampatterson@bogusemail.com'}\n",
      "{'first_name': 'Tom', 'last_name': 'Jefferson', 'email': 'tomjefferson@bogusemail.com'}\n",
      "{'first_name': 'Jane', 'last_name': 'Stuart', 'email': 'janestuart@bogusemail.com'}\n",
      "{'first_name': 'Maggie', 'last_name': 'Jefferson', 'email': 'maggiejefferson@bogusemail.com'}\n",
      "{'first_name': 'Mary', 'last_name': 'Wilks', 'email': 'marywilks@bogusemail.com'}\n",
      "{'first_name': 'Neil', 'last_name': 'Patterson', 'email': 'neilpatterson@bogusemail.com'}\n",
      "{'first_name': 'Corey', 'last_name': 'Davis', 'email': 'coreydavis@bogusemail.com'}\n",
      "{'first_name': 'Steve', 'last_name': 'Jacobs', 'email': 'stevejacobs@bogusemail.com'}\n",
      "{'first_name': 'Jane', 'last_name': 'Jenkins', 'email': 'janejenkins@bogusemail.com'}\n",
      "{'first_name': 'John', 'last_name': 'Jacobs', 'email': 'johnjacobs@bogusemail.com'}\n",
      "{'first_name': 'Neil', 'last_name': 'Smith', 'email': 'neilsmith@bogusemail.com'}\n",
      "{'first_name': 'Corey', 'last_name': 'Wilks', 'email': 'coreywilks@bogusemail.com'}\n",
      "{'first_name': 'Corey', 'last_name': 'Smith', 'email': 'coreysmith@bogusemail.com'}\n",
      "{'first_name': 'Mary', 'last_name': 'Patterson', 'email': 'marypatterson@bogusemail.com'}\n",
      "{'first_name': 'Jane', 'last_name': 'Stuart', 'email': 'janestuart@bogusemail.com'}\n",
      "{'first_name': 'Travis', 'last_name': 'Arnold', 'email': 'travisarnold@bogusemail.com'}\n",
      "{'first_name': 'John', 'last_name': 'Robinson', 'email': 'johnrobinson@bogusemail.com'}\n",
      "{'first_name': 'Travis', 'last_name': 'Arnold', 'email': 'travisarnold@bogusemail.com'}\n"
     ]
    }
   ],
   "source": [
    "with open('names.csv', 'r') as f:\n",
    "\n",
    "    csv_reader = csv.DictReader(f)\n",
    "\n",
    "    for line in csv_reader:\n",
    "        print(line)"
   ]
  },
  {
   "cell_type": "markdown",
   "metadata": {},
   "source": [
    "this is easier to read and we dont have to scroll upwards to see which column was it"
   ]
  },
  {
   "cell_type": "markdown",
   "metadata": {},
   "source": [
    "even accessing columns is easy"
   ]
  },
  {
   "cell_type": "code",
   "execution_count": 24,
   "metadata": {},
   "outputs": [
    {
     "name": "stdout",
     "output_type": "stream",
     "text": [
      "John\n",
      "Mary\n",
      "Dave\n",
      "Jane\n",
      "Tom\n",
      "Steve\n",
      "Nicole\n",
      "Jane\n",
      "Jane\n",
      "Kurt\n",
      "Kurt\n",
      "Jane\n",
      "Neil\n",
      "Tom\n",
      "Sam\n",
      "Steve\n",
      "Maggie\n",
      "Maggie\n",
      "Jane\n",
      "Steve\n",
      "Dave\n",
      "Sam\n",
      "Kurt\n",
      "Sam\n",
      "Jane\n",
      "Dave\n",
      "Sam\n",
      "Tom\n",
      "Jane\n",
      "Maggie\n",
      "Mary\n",
      "Neil\n",
      "Corey\n",
      "Steve\n",
      "Jane\n",
      "John\n",
      "Neil\n",
      "Corey\n",
      "Corey\n",
      "Mary\n",
      "Jane\n",
      "Travis\n",
      "John\n",
      "Travis\n"
     ]
    }
   ],
   "source": [
    "with open('names.csv', 'r') as f:\n",
    "\n",
    "    csv_reader = csv.DictReader(f)\n",
    "\n",
    "    for line in csv_reader:\n",
    "        print(line['first_name'])"
   ]
  },
  {
   "cell_type": "markdown",
   "metadata": {},
   "source": [
    "## dictionary writer - other type of writer"
   ]
  },
  {
   "cell_type": "markdown",
   "metadata": {},
   "source": [
    "for dictwriter we have to provide field names"
   ]
  },
  {
   "cell_type": "code",
   "execution_count": 30,
   "metadata": {},
   "outputs": [],
   "source": [
    "with open('names.csv', 'r') as f:\n",
    "    csv_reader = csv.DictReader(f)\n",
    "\n",
    "    with open('names_new.csv', 'w') as wf:\n",
    "        fieldnames = ['first_name', 'last_name', 'email'] # we need to specify fieldnames to dictwriter\n",
    "        \n",
    "        csv_writer = csv.DictWriter(wf, fieldnames=fieldnames, delimiter='\\t')\n",
    "        csv_writer.writeheader()# to include header specifying column names\n",
    "\n",
    "        for line in csv_reader:\n",
    "            csv_writer.writerow(line)"
   ]
  },
  {
   "cell_type": "markdown",
   "metadata": {},
   "source": [
    "## remove certain column"
   ]
  },
  {
   "cell_type": "markdown",
   "metadata": {},
   "source": [
    "- don't specify it in fieldnames\n",
    "- _del_ it while writing "
   ]
  },
  {
   "cell_type": "code",
   "execution_count": 31,
   "metadata": {},
   "outputs": [],
   "source": [
    "with open('names.csv', 'r') as f:\n",
    "    csv_reader = csv.DictReader(f)\n",
    "\n",
    "    with open('names_new.csv', 'w') as wf:\n",
    "        fieldnames = ['first_name', 'last_name'] # we need to specify fieldnames to dictwriter\n",
    "        \n",
    "        csv_writer = csv.DictWriter(wf, fieldnames=fieldnames, delimiter='\\t')\n",
    "        csv_writer.writeheader()# to include header specifying column names\n",
    "\n",
    "        for line in csv_reader:\n",
    "            del line['email']\n",
    "            csv_writer.writerow(line)"
   ]
  }
 ],
 "metadata": {
  "kernelspec": {
   "display_name": "Python 3",
   "language": "python",
   "name": "python3"
  },
  "language_info": {
   "codemirror_mode": {
    "name": "ipython",
    "version": 3
   },
   "file_extension": ".py",
   "mimetype": "text/x-python",
   "name": "python",
   "nbconvert_exporter": "python",
   "pygments_lexer": "ipython3",
   "version": "3.11.0rc1"
  }
 },
 "nbformat": 4,
 "nbformat_minor": 2
}
