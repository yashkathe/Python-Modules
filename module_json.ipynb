{
 "cells": [
  {
   "cell_type": "markdown",
   "metadata": {},
   "source": [
    "# Read and Parse JSON"
   ]
  },
  {
   "cell_type": "code",
   "execution_count": 38,
   "metadata": {},
   "outputs": [],
   "source": [
    "import json"
   ]
  },
  {
   "cell_type": "code",
   "execution_count": 39,
   "metadata": {},
   "outputs": [],
   "source": [
    "jsonString = '''\n",
    "{\n",
    "  \"states\": [\n",
    "    {\n",
    "      \"name\": \"Alabama\",\n",
    "      \"abbreviation\": \"AL\",\n",
    "      \"area_codes\": [\"205\", \"251\", \"256\", \"334\", \"938\"]\n",
    "    },\n",
    "    {\n",
    "      \"name\": \"Alaska\",\n",
    "      \"abbreviation\": \"AK\",\n",
    "      \"area_codes\": [\"907\"]\n",
    "    } ]\n",
    "}\n",
    "'''"
   ]
  },
  {
   "cell_type": "markdown",
   "metadata": {},
   "source": [
    "## read json string - reads() (read as _read s_ meaning read string) "
   ]
  },
  {
   "cell_type": "code",
   "execution_count": 40,
   "metadata": {},
   "outputs": [
    {
     "data": {
      "text/plain": [
       "{'states': [{'name': 'Alabama',\n",
       "   'abbreviation': 'AL',\n",
       "   'area_codes': ['205', '251', '256', '334', '938']},\n",
       "  {'name': 'Alaska', 'abbreviation': 'AK', 'area_codes': ['907']}]}"
      ]
     },
     "execution_count": 40,
     "metadata": {},
     "output_type": "execute_result"
    }
   ],
   "source": [
    "data = json.loads(jsonString)\n",
    "\n",
    "data"
   ]
  },
  {
   "cell_type": "code",
   "execution_count": 41,
   "metadata": {},
   "outputs": [
    {
     "name": "stdout",
     "output_type": "stream",
     "text": [
      "Alabama\n",
      "Alaska\n"
     ]
    }
   ],
   "source": [
    "for name in data['states']:\n",
    "    print(name['name'])"
   ]
  },
  {
   "cell_type": "code",
   "execution_count": 42,
   "metadata": {},
   "outputs": [
    {
     "name": "stdout",
     "output_type": "stream",
     "text": [
      "['205', '251', '256', '334', '938']\n",
      "['907']\n"
     ]
    }
   ],
   "source": [
    "for obj in data['states']:\n",
    "    print(obj['area_codes'])"
   ]
  },
  {
   "cell_type": "markdown",
   "metadata": {},
   "source": [
    "## delete json "
   ]
  },
  {
   "cell_type": "code",
   "execution_count": 43,
   "metadata": {},
   "outputs": [],
   "source": [
    "for obj in data['states']:\n",
    "    del obj['area_codes']"
   ]
  },
  {
   "cell_type": "markdown",
   "metadata": {},
   "source": [
    "the area code will now be deleted from all entries"
   ]
  },
  {
   "cell_type": "code",
   "execution_count": 44,
   "metadata": {},
   "outputs": [
    {
     "data": {
      "text/plain": [
       "{'states': [{'name': 'Alabama', 'abbreviation': 'AL'},\n",
       "  {'name': 'Alaska', 'abbreviation': 'AK'}]}"
      ]
     },
     "execution_count": 44,
     "metadata": {},
     "output_type": "execute_result"
    }
   ],
   "source": [
    "data"
   ]
  },
  {
   "cell_type": "markdown",
   "metadata": {},
   "source": [
    "## convert python object to json string"
   ]
  },
  {
   "cell_type": "code",
   "execution_count": 45,
   "metadata": {},
   "outputs": [
    {
     "name": "stdout",
     "output_type": "stream",
     "text": [
      "{\"states\": [{\"name\": \"Alabama\", \"abbreviation\": \"AL\"}, {\"name\": \"Alaska\", \"abbreviation\": \"AK\"}]}\n"
     ]
    }
   ],
   "source": [
    "new_string = json.dumps(data)\n",
    "\n",
    "print(new_string)"
   ]
  },
  {
   "cell_type": "markdown",
   "metadata": {},
   "source": [
    "this is a bit hard to read\n",
    "\n",
    "so we can **add identations**\n"
   ]
  },
  {
   "cell_type": "code",
   "execution_count": 46,
   "metadata": {},
   "outputs": [
    {
     "name": "stdout",
     "output_type": "stream",
     "text": [
      "{\n",
      "  \"states\": [\n",
      "    {\n",
      "      \"name\": \"Alabama\",\n",
      "      \"abbreviation\": \"AL\"\n",
      "    },\n",
      "    {\n",
      "      \"name\": \"Alaska\",\n",
      "      \"abbreviation\": \"AK\"\n",
      "    }\n",
      "  ]\n",
      "}\n"
     ]
    }
   ],
   "source": [
    "new_string = json.dumps(data, indent=2)\n",
    "\n",
    "print(new_string)"
   ]
  },
  {
   "cell_type": "markdown",
   "metadata": {},
   "source": [
    "## sorting keys alphabetically"
   ]
  },
  {
   "cell_type": "code",
   "execution_count": 47,
   "metadata": {},
   "outputs": [
    {
     "name": "stdout",
     "output_type": "stream",
     "text": [
      "{\n",
      "  \"states\": [\n",
      "    {\n",
      "      \"abbreviation\": \"AL\",\n",
      "      \"name\": \"Alabama\"\n",
      "    },\n",
      "    {\n",
      "      \"abbreviation\": \"AK\",\n",
      "      \"name\": \"Alaska\"\n",
      "    }\n",
      "  ]\n",
      "}\n"
     ]
    }
   ],
   "source": [
    "new_string = json.dumps(data, indent=2, sort_keys=True)\n",
    "\n",
    "print(new_string)"
   ]
  },
  {
   "cell_type": "markdown",
   "metadata": {},
   "source": [
    "## load JSON files into python objects"
   ]
  },
  {
   "cell_type": "code",
   "execution_count": 48,
   "metadata": {},
   "outputs": [
    {
     "name": "stdout",
     "output_type": "stream",
     "text": [
      "Alabama\n",
      "Alaska\n",
      "Arizona\n",
      "Arkansas\n",
      "California\n",
      "Colorado\n",
      "Connecticut\n",
      "Delaware\n",
      "Florida\n",
      "Georgia\n",
      "Hawaii\n",
      "Idaho\n",
      "Illinois\n",
      "Indiana\n",
      "Iowa\n",
      "Kansas\n",
      "Kentucky\n",
      "Louisiana\n",
      "Maine\n",
      "Maryland\n",
      "Massachusetts\n",
      "Michigan\n",
      "Minnesota\n",
      "Mississippi\n",
      "Missouri\n",
      "Montana\n",
      "Nebraska\n",
      "Nevada\n",
      "New Hampshire\n",
      "New Jersey\n",
      "New Mexico\n",
      "New York\n",
      "North Carolina\n",
      "North Dakota\n",
      "Ohio\n",
      "Oklahoma\n",
      "Oregon\n",
      "Pennsylvania\n",
      "Rhode Island\n",
      "South Carolina\n",
      "South Dakota\n",
      "Tennessee\n",
      "Texas\n",
      "Utah\n",
      "Vermont\n",
      "Virginia\n",
      "Washington\n",
      "West Virginia\n",
      "Wisconsin\n",
      "Wyoming\n"
     ]
    }
   ],
   "source": [
    "with open('states.json', 'r') as f:\n",
    "    \n",
    "    data = json.load(f) \n",
    "\n",
    "    for state in data['states']:\n",
    "        print(state['name'])"
   ]
  },
  {
   "cell_type": "markdown",
   "metadata": {},
   "source": [
    "## write json file"
   ]
  },
  {
   "cell_type": "code",
   "execution_count": 49,
   "metadata": {},
   "outputs": [],
   "source": [
    "with open('states.json', 'r') as f:\n",
    "    data = json.load(f)\n",
    "\n",
    "    for state in data['states']:\n",
    "        del state['area_codes'] # delete a key\n",
    "        \n",
    "    # write new json file\n",
    "    with open('states_new.json', 'w') as wf:\n",
    "        json.dump(data, wf, indent=2)"
   ]
  },
  {
   "cell_type": "code",
   "execution_count": 50,
   "metadata": {},
   "outputs": [
    {
     "name": "stdout",
     "output_type": "stream",
     "text": [
      "{'name': 'Alabama', 'abbreviation': 'AL'}\n",
      "{'name': 'Alaska', 'abbreviation': 'AK'}\n",
      "{'name': 'Arizona', 'abbreviation': 'AZ'}\n",
      "{'name': 'Arkansas', 'abbreviation': 'AR'}\n",
      "{'name': 'California', 'abbreviation': 'CA'}\n",
      "{'name': 'Colorado', 'abbreviation': 'CO'}\n",
      "{'name': 'Connecticut', 'abbreviation': 'CT'}\n",
      "{'name': 'Delaware', 'abbreviation': 'DE'}\n",
      "{'name': 'Florida', 'abbreviation': 'FL'}\n",
      "{'name': 'Georgia', 'abbreviation': 'GA'}\n",
      "{'name': 'Hawaii', 'abbreviation': 'HI'}\n",
      "{'name': 'Idaho', 'abbreviation': 'ID'}\n",
      "{'name': 'Illinois', 'abbreviation': 'IL'}\n",
      "{'name': 'Indiana', 'abbreviation': 'IN'}\n",
      "{'name': 'Iowa', 'abbreviation': 'IA'}\n",
      "{'name': 'Kansas', 'abbreviation': 'KS'}\n",
      "{'name': 'Kentucky', 'abbreviation': 'KY'}\n",
      "{'name': 'Louisiana', 'abbreviation': 'LA'}\n",
      "{'name': 'Maine', 'abbreviation': 'ME'}\n",
      "{'name': 'Maryland', 'abbreviation': 'MD'}\n",
      "{'name': 'Massachusetts', 'abbreviation': 'MA'}\n",
      "{'name': 'Michigan', 'abbreviation': 'MI'}\n",
      "{'name': 'Minnesota', 'abbreviation': 'MN'}\n",
      "{'name': 'Mississippi', 'abbreviation': 'MS'}\n",
      "{'name': 'Missouri', 'abbreviation': 'MO'}\n",
      "{'name': 'Montana', 'abbreviation': 'MT'}\n",
      "{'name': 'Nebraska', 'abbreviation': 'NE'}\n",
      "{'name': 'Nevada', 'abbreviation': 'NV'}\n",
      "{'name': 'New Hampshire', 'abbreviation': 'NH'}\n",
      "{'name': 'New Jersey', 'abbreviation': 'NJ'}\n",
      "{'name': 'New Mexico', 'abbreviation': 'NM'}\n",
      "{'name': 'New York', 'abbreviation': 'NY'}\n",
      "{'name': 'North Carolina', 'abbreviation': 'NC'}\n",
      "{'name': 'North Dakota', 'abbreviation': 'ND'}\n",
      "{'name': 'Ohio', 'abbreviation': 'OH'}\n",
      "{'name': 'Oklahoma', 'abbreviation': 'OK'}\n",
      "{'name': 'Oregon', 'abbreviation': 'OR'}\n",
      "{'name': 'Pennsylvania', 'abbreviation': 'PA'}\n",
      "{'name': 'Rhode Island', 'abbreviation': 'RI'}\n",
      "{'name': 'South Carolina', 'abbreviation': 'SC'}\n",
      "{'name': 'South Dakota', 'abbreviation': 'SD'}\n",
      "{'name': 'Tennessee', 'abbreviation': 'TN'}\n",
      "{'name': 'Texas', 'abbreviation': 'TX'}\n",
      "{'name': 'Utah', 'abbreviation': 'UT'}\n",
      "{'name': 'Vermont', 'abbreviation': 'VT'}\n",
      "{'name': 'Virginia', 'abbreviation': 'VA'}\n",
      "{'name': 'Washington', 'abbreviation': 'WA'}\n",
      "{'name': 'West Virginia', 'abbreviation': 'WV'}\n",
      "{'name': 'Wisconsin', 'abbreviation': 'WI'}\n",
      "{'name': 'Wyoming', 'abbreviation': 'WY'}\n"
     ]
    }
   ],
   "source": [
    "with open('states_new.json', 'r') as f:\n",
    "    \n",
    "    data = json.load(f)\n",
    "\n",
    "    for state in data['states']:\n",
    "        print(state)"
   ]
  }
 ],
 "metadata": {
  "kernelspec": {
   "display_name": "Python 3",
   "language": "python",
   "name": "python3"
  },
  "language_info": {
   "codemirror_mode": {
    "name": "ipython",
    "version": 3
   },
   "file_extension": ".py",
   "mimetype": "text/x-python",
   "name": "python",
   "nbconvert_exporter": "python",
   "pygments_lexer": "ipython3",
   "version": "3.11.0rc1"
  }
 },
 "nbformat": 4,
 "nbformat_minor": 2
}
