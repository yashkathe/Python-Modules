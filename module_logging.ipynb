{
 "cells": [
  {
   "cell_type": "markdown",
   "metadata": {},
   "source": [
    "# Logging "
   ]
  },
  {
   "cell_type": "code",
   "execution_count": 66,
   "metadata": {},
   "outputs": [],
   "source": [
    "import logging"
   ]
  },
  {
   "cell_type": "code",
   "execution_count": 77,
   "metadata": {},
   "outputs": [
    {
     "data": {
      "text/plain": [
       "'/home/yashkathe/PYTHON/python-module-interview-prep'"
      ]
     },
     "execution_count": 77,
     "metadata": {},
     "output_type": "execute_result"
    }
   ],
   "source": [
    "import os \n",
    "os.getcwd()"
   ]
  },
  {
   "cell_type": "code",
   "execution_count": 67,
   "metadata": {},
   "outputs": [
    {
     "data": {
      "text/plain": [
       "<module 'logging' from '/usr/lib/python3.11/logging/__init__.py'>"
      ]
     },
     "execution_count": 67,
     "metadata": {},
     "output_type": "execute_result"
    }
   ],
   "source": [
    "from importlib import reload\n",
    "reload(logging)"
   ]
  },
  {
   "cell_type": "markdown",
   "metadata": {},
   "source": [
    "**logging level** - logging levels allow us to specify exactly what we want to log by seperating these into categories  \n",
    "\n",
    "There are 5 standard logging levels  \n",
    "\n",
    "1. **DEBUG** - Detailed information, typically of interest when diagnosing problems\n",
    "2. **INFO** - Confirmation that things are working as expected \n",
    "3. **WARNING** - Indication that something unexpected happened or indicative of some problems in the near future. Software is still working as expected \n",
    "4. **ERROR** - Due to more serious problem, the software has not been able to perform some functions.\n",
    "5. **CRITICAL** - Serious error, indicating that the program itself may be unable to continue running"
   ]
  },
  {
   "cell_type": "markdown",
   "metadata": {},
   "source": [
    "_default level of logging is set to warning_  \n",
    "what that means is that it will capture everything that is warning or above. So warning, error and critical"
   ]
  },
  {
   "cell_type": "code",
   "execution_count": 68,
   "metadata": {},
   "outputs": [],
   "source": [
    "def add(a, b):\n",
    "    return a + b\n",
    "\n",
    "def subtract(a, b):\n",
    "    return a - b\n",
    "\n",
    "def multiply(a, b):\n",
    "    return a * b\n",
    "\n",
    "def divide(a, b):\n",
    "    return a / b"
   ]
  },
  {
   "cell_type": "code",
   "execution_count": 69,
   "metadata": {},
   "outputs": [],
   "source": [
    "num_1 = 10\n",
    "num_2 = 5"
   ]
  },
  {
   "cell_type": "code",
   "execution_count": 70,
   "metadata": {},
   "outputs": [],
   "source": [
    "add_res = add(num_1, num_2)\n",
    "logging.debug('Add: {} + {} = {}'.format(num_1, num_2, num_1 + num_2))\n",
    "\n",
    "sub_res = subtract(num_1, num_2)\n",
    "logging.debug('Subtract: {} - {} = {}'.format(num_1, num_2, sub_res))\n",
    "\n",
    "mul_res = multiply(num_1, num_2)\n",
    "logging.debug('Multiply: {} * {} = {}'.format(num_1, num_2, mul_res))\n",
    "\n",
    "div_res = divide(num_1, num_2)\n",
    "logging.debug('Divide: {} / {} = {}'.format(num_1, num_2, div_res))"
   ]
  },
  {
   "cell_type": "markdown",
   "metadata": {},
   "source": [
    "_logging.debug_ has similar syntax as print. just instead of print we are writing logging.debug  \n",
    "\n",
    "but this will not log anything as the default level is warning"
   ]
  },
  {
   "cell_type": "markdown",
   "metadata": {},
   "source": [
    "## Change Config of Logging"
   ]
  },
  {
   "cell_type": "markdown",
   "metadata": {},
   "source": [
    "so to alter the behaviour we can use ***logging.basicConfig(level=)*** to change the level of logging"
   ]
  },
  {
   "cell_type": "markdown",
   "metadata": {},
   "source": [
    "also a ***filename*** to specify which file to the output to"
   ]
  },
  {
   "cell_type": "code",
   "execution_count": null,
   "metadata": {},
   "outputs": [],
   "source": [
    "logging.basicConfig(filename='module')"
   ]
  },
  {
   "cell_type": "code",
   "execution_count": 75,
   "metadata": {},
   "outputs": [],
   "source": [
    "num_1 = 20\n",
    "num_2 = 10"
   ]
  },
  {
   "cell_type": "code",
   "execution_count": 76,
   "metadata": {},
   "outputs": [],
   "source": [
    "add_res = add(num_1, num_2)\n",
    "logging.debug('Add: {} + {} = {}'.format(num_1, num_2, add_res))\n",
    "\n",
    "sub_res = subtract(num_1, num_2)\n",
    "logging.debug('Subtract: {} - {} = {}'.format(num_1, num_2, sub_res))\n",
    "\n",
    "mul_res = multiply(num_1, num_2)\n",
    "logging.debug('Multiply: {} * {} = {}'.format(num_1, num_2, mul_res))\n",
    "\n",
    "div_res = divide(num_1, num_2)\n",
    "logging.debug('Divide: {} / {} = {}'.format(num_1, num_2, div_res))"
   ]
  },
  {
   "cell_type": "markdown",
   "metadata": {},
   "source": [
    "## Changing format of log file we are writing to"
   ]
  }
 ],
 "metadata": {
  "kernelspec": {
   "display_name": "Python 3",
   "language": "python",
   "name": "python3"
  },
  "language_info": {
   "codemirror_mode": {
    "name": "ipython",
    "version": 3
   },
   "file_extension": ".py",
   "mimetype": "text/x-python",
   "name": "python",
   "nbconvert_exporter": "python",
   "pygments_lexer": "ipython3",
   "version": "3.11.0"
  }
 },
 "nbformat": 4,
 "nbformat_minor": 2
}
