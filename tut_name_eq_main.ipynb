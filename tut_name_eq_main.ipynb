{
 "cells": [
  {
   "cell_type": "markdown",
   "metadata": {},
   "source": [
    "# \\_\\_name\\_\\_ = '\\_\\_main\\_\\_'"
   ]
  },
  {
   "cell_type": "markdown",
   "metadata": {},
   "source": [
    "**this set up gives you the option to run (or not run) a chunk of code when imported from another python file**"
   ]
  },
  {
   "cell_type": "markdown",
   "metadata": {},
   "source": [
    "## Intro"
   ]
  },
  {
   "cell_type": "markdown",
   "metadata": {},
   "source": [
    "we we print `__name__` we get `__main__`"
   ]
  },
  {
   "cell_type": "code",
   "execution_count": 9,
   "metadata": {},
   "outputs": [
    {
     "name": "stdout",
     "output_type": "stream",
     "text": [
      "__main__\n"
     ]
    }
   ],
   "source": [
    "print(__name__)"
   ]
  },
  {
   "cell_type": "markdown",
   "metadata": {},
   "source": [
    "Q. So what just happened?  \n",
    "Whenever python runs a file, before even running the code it sets a few variables.(\\_\\_name\\_\\_ is one of them_)"
   ]
  },
  {
   "cell_type": "markdown",
   "metadata": {},
   "source": [
    "The `__name__ == \"__main__\"` construct is commonly used in Python scripts and serves as an entry point to ensure that *certain parts of the code are executed only when the script is run directly*, rather than being imported as a module into another script. \n",
    "\n",
    "### Explanation\n",
    "- Every Python module has a built-in attribute `__name__`.\n",
    "- If the module is being run directly (as the main program), `__name__` is set to `\"__main__\"`.\n",
    "- If the module is being imported into another script, `__name__` is set to the module's name (e.g., the filename without `.py`).\n",
    "\n",
    "### Use Case\n",
    "The primary use case of `if __name__ == \"__main__\":` is to allow or restrict code execution depending on how the file is being used. Here's a typical example:\n",
    "\n",
    "#### Example: Standalone Script\n",
    "```python\n",
    "# my_script.py\n",
    "\n",
    "def main():\n",
    "    print(\"This code runs only when the script is executed directly.\")\n",
    "\n",
    "if __name__ == \"__main__\":\n",
    "    main()\n",
    "```\n",
    "When you run the script directly:\n",
    "```bash\n",
    "$ python my_script.py\n",
    "This code runs only when the script is executed directly.\n",
    "```\n",
    "\n",
    "#### Example: Imported Module\n",
    "```python\n",
    "# another_script.py\n",
    "import my_script\n",
    "\n",
    "print(\"This code runs in another_script.py\")\n",
    "```\n",
    "\n",
    "When `another_script.py` is executed:\n",
    "```bash\n",
    "$ python another_script.py\n",
    "This code runs in another_script.py\n",
    "```\n",
    "\n",
    "**Notice:** The `main()` function in `my_script.py` does not execute because `__name__` in `my_script` is not `\"__main__\"` when imported.\n",
    "\n",
    "### Key Benefits\n",
    "1. **Reusable Code**: You can write scripts that serve as both standalone programs and importable modules without modifying the code.\n",
    "2. **Organized Testing**: You can include testing or debugging code within the `if __name__ == \"__main__\":` block that won’t execute when the module is imported elsewhere.\n",
    "3. **Clarity**: It clarifies which parts of the script are intended for direct execution and which parts are utilities for other modules.\n",
    "\n",
    "### When to Use It\n",
    "- Whenever you want to write a Python file that can be both executed directly and reused as a module.\n",
    "- To isolate testing, setup, or entry-point logic from reusable functions or classes."
   ]
  }
 ],
 "metadata": {
  "kernelspec": {
   "display_name": "Python 3",
   "language": "python",
   "name": "python3"
  },
  "language_info": {
   "codemirror_mode": {
    "name": "ipython",
    "version": 3
   },
   "file_extension": ".py",
   "mimetype": "text/x-python",
   "name": "python",
   "nbconvert_exporter": "python",
   "pygments_lexer": "ipython3",
   "version": "3.11.0"
  }
 },
 "nbformat": 4,
 "nbformat_minor": 2
}
