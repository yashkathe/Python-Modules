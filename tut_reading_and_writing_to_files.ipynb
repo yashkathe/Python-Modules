{
 "cells": [
  {
   "cell_type": "markdown",
   "metadata": {},
   "source": [
    "# Reading and Writing to Files"
   ]
  },
  {
   "cell_type": "code",
   "execution_count": 33,
   "metadata": {},
   "outputs": [],
   "source": [
    "import subprocess"
   ]
  },
  {
   "cell_type": "code",
   "execution_count": 7,
   "metadata": {},
   "outputs": [],
   "source": [
    "my_file = 'tut_reading_and_writing_to_files.txt'"
   ]
  },
  {
   "cell_type": "markdown",
   "metadata": {},
   "source": [
    "we need to specify if we are using the file for _read, write or appending_"
   ]
  },
  {
   "cell_type": "markdown",
   "metadata": {},
   "source": [
    "## file operations without context manager"
   ]
  },
  {
   "cell_type": "code",
   "execution_count": 8,
   "metadata": {},
   "outputs": [],
   "source": [
    "f = open(my_file, 'r')"
   ]
  },
  {
   "cell_type": "code",
   "execution_count": 9,
   "metadata": {},
   "outputs": [
    {
     "data": {
      "text/plain": [
       "'tut_reading_and_writing_to_files.txt'"
      ]
     },
     "execution_count": 9,
     "metadata": {},
     "output_type": "execute_result"
    }
   ],
   "source": [
    "f.name"
   ]
  },
  {
   "cell_type": "code",
   "execution_count": 10,
   "metadata": {},
   "outputs": [
    {
     "data": {
      "text/plain": [
       "'r'"
      ]
     },
     "execution_count": 10,
     "metadata": {},
     "output_type": "execute_result"
    }
   ],
   "source": [
    "f.mode"
   ]
  },
  {
   "cell_type": "markdown",
   "metadata": {},
   "source": [
    "close the file explicitly after using it"
   ]
  },
  {
   "cell_type": "code",
   "execution_count": 11,
   "metadata": {},
   "outputs": [],
   "source": [
    "f.close()"
   ]
  },
  {
   "cell_type": "markdown",
   "metadata": {},
   "source": [
    "## file operations with context manager (recommended)"
   ]
  },
  {
   "cell_type": "markdown",
   "metadata": {},
   "source": [
    "don't need to close the file using this approach"
   ]
  },
  {
   "cell_type": "markdown",
   "metadata": {},
   "source": [
    "can only use variable f withing this context manager"
   ]
  },
  {
   "cell_type": "code",
   "execution_count": 14,
   "metadata": {},
   "outputs": [
    {
     "name": "stdout",
     "output_type": "stream",
     "text": [
      "1. First Line\n",
      "2. Second Line\n",
      "3. Third Line\n",
      "4. Fourth Line\n",
      "5. Fifth Line\n"
     ]
    }
   ],
   "source": [
    "with open(my_file, 'r') as f:\n",
    "    f_content = f.read()\n",
    "    print(f_content)"
   ]
  },
  {
   "cell_type": "markdown",
   "metadata": {},
   "source": [
    "## reading large files"
   ]
  },
  {
   "cell_type": "markdown",
   "metadata": {},
   "source": [
    "### 1. we can use for loop to read each line instead of reading it all at once"
   ]
  },
  {
   "cell_type": "code",
   "execution_count": 16,
   "metadata": {},
   "outputs": [
    {
     "name": "stdout",
     "output_type": "stream",
     "text": [
      "1. First Line\n",
      "2. Second Line\n",
      "3. Third Line\n",
      "4. Fourth Line\n",
      "5. Fifth Line"
     ]
    }
   ],
   "source": [
    "with open(my_file, 'r') as f:\n",
    "\n",
    "    for line in f:\n",
    "        print(line, end ='')"
   ]
  },
  {
   "cell_type": "markdown",
   "metadata": {},
   "source": [
    "### 2. specify how much data we want to read"
   ]
  },
  {
   "cell_type": "code",
   "execution_count": 22,
   "metadata": {},
   "outputs": [
    {
     "name": "stdout",
     "output_type": "stream",
     "text": [
      "1. First Line\n",
      "2. Second Line\n",
      "3. Third Li\n",
      "-------------\n",
      "ne\n",
      "4. Fourth Line\n",
      "5. Fifth Line\n",
      "-------------\n",
      "\n",
      "-------------\n"
     ]
    }
   ],
   "source": [
    "with open(my_file, 'r') as f:\n",
    "\n",
    "    f_content = f.read(40) # 40 characters\n",
    "    print(f_content)\n",
    "    print('-------------')\n",
    "\n",
    "    f_content = f.read(40) # prints the next 40 characters\n",
    "    print(f_content)\n",
    "    print('-------------')\n",
    "\n",
    "    f_content = f.read(40) # eventually returns empty string\n",
    "    print(f_content)\n",
    "    print('-------------')"
   ]
  },
  {
   "cell_type": "markdown",
   "metadata": {},
   "source": [
    "we dont know how long the file is  \n",
    "so we can use **_loop to iterate_** over the file"
   ]
  },
  {
   "cell_type": "code",
   "execution_count": 24,
   "metadata": {},
   "outputs": [
    {
     "name": "stdout",
     "output_type": "stream",
     "text": [
      "1. First Line\n",
      "2. Second Line\n",
      "3. Third Line\n",
      "4. Fourth Line\n",
      "5. Fifth Line"
     ]
    }
   ],
   "source": [
    "with open(my_file, 'r') as f:\n",
    "    \n",
    "    size_to_read = 40\n",
    "\n",
    "    f_desc = f.read(size_to_read)\n",
    "\n",
    "    while len(f_desc) > 0:\n",
    "        print(f_desc, end='')\n",
    "        f_desc = f.read(size_to_read)"
   ]
  },
  {
   "cell_type": "markdown",
   "metadata": {},
   "source": [
    "## checking where the pointer is while reading files - tell()"
   ]
  },
  {
   "cell_type": "code",
   "execution_count": 27,
   "metadata": {},
   "outputs": [
    {
     "name": "stdout",
     "output_type": "stream",
     "text": [
      "10\n"
     ]
    }
   ],
   "source": [
    "with open(my_file, 'r') as f:\n",
    "\n",
    "    size_to_read = 10\n",
    "\n",
    "    f_desc = f.read(size_to_read)\n",
    "\n",
    "    print(f.tell()) # says pointer is on 10th character"
   ]
  },
  {
   "cell_type": "markdown",
   "metadata": {},
   "source": [
    "## changing the position of the pointer - seek()"
   ]
  },
  {
   "cell_type": "code",
   "execution_count": 32,
   "metadata": {},
   "outputs": [
    {
     "name": "stdout",
     "output_type": "stream",
     "text": [
      "1. First Line\n",
      "1. First Line\n"
     ]
    }
   ],
   "source": [
    "with open(my_file, 'r') as f:\n",
    "\n",
    "    size_to_read = 13\n",
    "\n",
    "    f_desc = f.read(size_to_read)\n",
    "    print(f_desc)\n",
    "\n",
    "    f.seek(0) # will go back to start of the file\n",
    "\n",
    "    f_desc = f.read(size_to_read)\n",
    "    print(f_desc)"
   ]
  },
  {
   "cell_type": "markdown",
   "metadata": {},
   "source": [
    "## writing to a file"
   ]
  },
  {
   "cell_type": "markdown",
   "metadata": {},
   "source": [
    "for overwriting to a file we use _**'w'**_  \n",
    "but for appending to a file we use _**'a'**_"
   ]
  },
  {
   "cell_type": "markdown",
   "metadata": {},
   "source": [
    "also using _**'w'**_ will create the file for us even if it doesn't exist"
   ]
  },
  {
   "cell_type": "code",
   "execution_count": 34,
   "metadata": {},
   "outputs": [],
   "source": [
    "write_file = 'tut_reading_and_writing_to_files_demo.txt'"
   ]
  },
  {
   "cell_type": "code",
   "execution_count": 35,
   "metadata": {},
   "outputs": [],
   "source": [
    "with open(write_file, 'w') as f:\n",
    "    f.write('firstline')\n",
    "    f.write('secondline')"
   ]
  },
  {
   "cell_type": "code",
   "execution_count": 37,
   "metadata": {},
   "outputs": [
    {
     "name": "stdout",
     "output_type": "stream",
     "text": [
      "firstlinesecondline"
     ]
    },
    {
     "data": {
      "text/plain": [
       "CompletedProcess(args='cat tut_reading_and_writing_to_files_demo.txt', returncode=0)"
      ]
     },
     "execution_count": 37,
     "metadata": {},
     "output_type": "execute_result"
    }
   ],
   "source": [
    "subprocess.run(f'cat {write_file}', shell=True)"
   ]
  },
  {
   "cell_type": "markdown",
   "metadata": {},
   "source": [
    "write appends line on the same line\n",
    "\n",
    "we can use **_cursor()_** to move the pointer while writing"
   ]
  },
  {
   "cell_type": "code",
   "execution_count": 38,
   "metadata": {},
   "outputs": [],
   "source": [
    "with open(write_file, 'w') as f:\n",
    "    f.write('test')\n",
    "    f.seek(0) # will go back to 0th character\n",
    "    f.write('r')"
   ]
  },
  {
   "cell_type": "code",
   "execution_count": 39,
   "metadata": {},
   "outputs": [
    {
     "name": "stdout",
     "output_type": "stream",
     "text": [
      "rest"
     ]
    },
    {
     "data": {
      "text/plain": [
       "CompletedProcess(args='cat tut_reading_and_writing_to_files_demo.txt', returncode=0)"
      ]
     },
     "execution_count": 39,
     "metadata": {},
     "output_type": "execute_result"
    }
   ],
   "source": [
    "subprocess.run(f'cat {write_file}', shell=True)"
   ]
  },
  {
   "cell_type": "markdown",
   "metadata": {},
   "source": [
    "so a **_cursor()_** will overwrite the characters and not entirely delete everything"
   ]
  },
  {
   "cell_type": "markdown",
   "metadata": {},
   "source": [
    "## reading and writing multiple files"
   ]
  },
  {
   "cell_type": "code",
   "execution_count": 40,
   "metadata": {},
   "outputs": [],
   "source": [
    "my_file_2 = 'tut_reading_and_writing_to_files_2.txt'"
   ]
  },
  {
   "cell_type": "code",
   "execution_count": 41,
   "metadata": {},
   "outputs": [
    {
     "data": {
      "text/plain": [
       "CompletedProcess(args='cat tut_reading_and_writing_to_files_2.txt', returncode=0)"
      ]
     },
     "execution_count": 41,
     "metadata": {},
     "output_type": "execute_result"
    }
   ],
   "source": [
    "subprocess.run(f'cat {my_file_2}', shell=True)"
   ]
  },
  {
   "cell_type": "markdown",
   "metadata": {},
   "source": [
    "right now the file is empty but we will make a copy of original file in this new file"
   ]
  },
  {
   "cell_type": "code",
   "execution_count": 42,
   "metadata": {},
   "outputs": [],
   "source": [
    "with open(my_file, 'r') as rf: #rf for read file\n",
    "    with open(my_file_2, 'w') as wf:\n",
    "\n",
    "        for line in rf:\n",
    "            wf.write(line)"
   ]
  },
  {
   "cell_type": "code",
   "execution_count": 43,
   "metadata": {},
   "outputs": [
    {
     "name": "stdout",
     "output_type": "stream",
     "text": [
      "1. First Line\n",
      "2. Second Line\n",
      "3. Third Line\n",
      "4. Fourth Line\n",
      "5. Fifth Line"
     ]
    },
    {
     "data": {
      "text/plain": [
       "CompletedProcess(args='cat tut_reading_and_writing_to_files_2.txt', returncode=0)"
      ]
     },
     "execution_count": 43,
     "metadata": {},
     "output_type": "execute_result"
    }
   ],
   "source": [
    "subprocess.run(f'cat {my_file_2}', shell=True)"
   ]
  },
  {
   "cell_type": "markdown",
   "metadata": {},
   "source": [
    "successfully copied the files"
   ]
  },
  {
   "cell_type": "markdown",
   "metadata": {},
   "source": [
    "for large files, making a copy using chunks (as seen earlier)"
   ]
  },
  {
   "cell_type": "code",
   "execution_count": 44,
   "metadata": {},
   "outputs": [],
   "source": [
    "with open(my_file, 'r') as rf: #rf for read file\n",
    "    with open(my_file_2, 'w') as wf:\n",
    "\n",
    "        chunk_size = 30\n",
    "\n",
    "        rf_chunk = rf.read(chunk_size)\n",
    "\n",
    "        while len(rf_chunk) > 0:\n",
    "            wf.write(rf_chunk)\n",
    "            rf_chunk = rf.read(chunk_size)"
   ]
  },
  {
   "cell_type": "code",
   "execution_count": 45,
   "metadata": {},
   "outputs": [
    {
     "name": "stdout",
     "output_type": "stream",
     "text": [
      "1. First Line\n",
      "2. Second Line\n",
      "3. Third Line\n",
      "4. Fourth Line\n",
      "5. Fifth Line"
     ]
    },
    {
     "data": {
      "text/plain": [
       "CompletedProcess(args='cat tut_reading_and_writing_to_files_2.txt', returncode=0)"
      ]
     },
     "execution_count": 45,
     "metadata": {},
     "output_type": "execute_result"
    }
   ],
   "source": [
    "subprocess.run(f'cat {my_file_2}', shell=True)"
   ]
  }
 ],
 "metadata": {
  "kernelspec": {
   "display_name": "Python 3",
   "language": "python",
   "name": "python3"
  },
  "language_info": {
   "codemirror_mode": {
    "name": "ipython",
    "version": 3
   },
   "file_extension": ".py",
   "mimetype": "text/x-python",
   "name": "python",
   "nbconvert_exporter": "python",
   "pygments_lexer": "ipython3",
   "version": "3.11.0rc1"
  }
 },
 "nbformat": 4,
 "nbformat_minor": 2
}
