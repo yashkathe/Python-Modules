{
 "cells": [
  {
   "cell_type": "markdown",
   "metadata": {},
   "source": [
    "# Try Except Blocks"
   ]
  },
  {
   "cell_type": "markdown",
   "metadata": {},
   "source": [
    "try:\n",
    "\n",
    "except Exception:\n",
    "\n",
    "else:\n",
    "\n",
    "finally"
   ]
  },
  {
   "cell_type": "code",
   "execution_count": 1,
   "metadata": {},
   "outputs": [
    {
     "name": "stdout",
     "output_type": "stream",
     "text": [
      "File doesn't exist\n"
     ]
    }
   ],
   "source": [
    "try:\n",
    "    f = open('get-error.txt') # file doesnt exist\n",
    "except Exception as e:\n",
    "    print('File doesn\\'t exist')"
   ]
  },
  {
   "cell_type": "markdown",
   "metadata": {},
   "source": [
    "there may be many different errors, so how to catch those errors excatly"
   ]
  },
  {
   "cell_type": "code",
   "execution_count": 2,
   "metadata": {},
   "outputs": [
    {
     "ename": "NameError",
     "evalue": "name 'bad_var' is not defined",
     "output_type": "error",
     "traceback": [
      "\u001b[0;31m---------------------------------------------------------------------------\u001b[0m",
      "\u001b[0;31mNameError\u001b[0m                                 Traceback (most recent call last)",
      "\u001b[0;32m/tmp/ipykernel_218805/2619478816.py\u001b[0m in \u001b[0;36m<module>\u001b[0;34m\u001b[0m\n\u001b[1;32m      1\u001b[0m \u001b[0;32mtry\u001b[0m\u001b[0;34m:\u001b[0m\u001b[0;34m\u001b[0m\u001b[0;34m\u001b[0m\u001b[0m\n\u001b[1;32m      2\u001b[0m     \u001b[0mf\u001b[0m \u001b[0;34m=\u001b[0m \u001b[0mopen\u001b[0m\u001b[0;34m(\u001b[0m\u001b[0;34m'demo.txt'\u001b[0m\u001b[0;34m)\u001b[0m \u001b[0;31m# file exists\u001b[0m\u001b[0;34m\u001b[0m\u001b[0;34m\u001b[0m\u001b[0m\n\u001b[0;32m----> 3\u001b[0;31m     \u001b[0mvar\u001b[0m \u001b[0;34m=\u001b[0m \u001b[0mbad_var\u001b[0m\u001b[0;31m# this line has error\u001b[0m\u001b[0;34m\u001b[0m\u001b[0;34m\u001b[0m\u001b[0m\n\u001b[0m\u001b[1;32m      4\u001b[0m \u001b[0;32mexcept\u001b[0m \u001b[0mFileNotFoundError\u001b[0m\u001b[0;34m:\u001b[0m\u001b[0;34m\u001b[0m\u001b[0;34m\u001b[0m\u001b[0m\n\u001b[1;32m      5\u001b[0m     \u001b[0mprint\u001b[0m\u001b[0;34m(\u001b[0m\u001b[0;34m'File doesn\\'t exist'\u001b[0m\u001b[0;34m)\u001b[0m\u001b[0;34m\u001b[0m\u001b[0;34m\u001b[0m\u001b[0m\n",
      "\u001b[0;31mNameError\u001b[0m: name 'bad_var' is not defined"
     ]
    }
   ],
   "source": [
    "try:\n",
    "    f = open('demo.txt') # file exists\n",
    "    var = bad_var# this line has error\n",
    "except FileNotFoundError:\n",
    "    print('File doesn\\'t exist')"
   ]
  },
  {
   "cell_type": "markdown",
   "metadata": {},
   "source": [
    "the above error is not file not found error  \n",
    "hence we dont print anything"
   ]
  },
  {
   "cell_type": "markdown",
   "metadata": {},
   "source": [
    "## multiple except blocks"
   ]
  },
  {
   "cell_type": "code",
   "execution_count": 3,
   "metadata": {},
   "outputs": [
    {
     "name": "stdout",
     "output_type": "stream",
     "text": [
      "name 'bad_var' is not defined\n"
     ]
    }
   ],
   "source": [
    "try:\n",
    "    f = open('demo.txt') # file exists\n",
    "    var = bad_var# this line has error\n",
    "except FileNotFoundError:\n",
    "    print('File doesn\\'t exist')\n",
    "except Exception as e:\n",
    "    print(e)"
   ]
  },
  {
   "cell_type": "markdown",
   "metadata": {},
   "source": [
    "## else block"
   ]
  },
  {
   "cell_type": "markdown",
   "metadata": {},
   "source": [
    "else runs when try worked without any errors  and we get no exceptions"
   ]
  },
  {
   "cell_type": "code",
   "execution_count": 4,
   "metadata": {},
   "outputs": [
    {
     "name": "stdout",
     "output_type": "stream",
     "text": [
      "hi\n",
      "this\n",
      "is \n",
      "a\n",
      "test\n",
      "file\n"
     ]
    }
   ],
   "source": [
    "try:\n",
    "    f = open('demo.txt') # file exists\n",
    "except FileNotFoundError:\n",
    "    print('File doesn\\'t exist')\n",
    "except Exception as e:\n",
    "    print(e)\n",
    "else:\n",
    "    print(f.read())\n",
    "    f.close()"
   ]
  },
  {
   "cell_type": "markdown",
   "metadata": {},
   "source": [
    "_but why not put that code in try only?_"
   ]
  },
  {
   "cell_type": "markdown",
   "metadata": {},
   "source": [
    "because we want to be specfic what we want to catch  \n",
    "hence we can put certain code down in else block"
   ]
  },
  {
   "cell_type": "markdown",
   "metadata": {},
   "source": [
    "## finally block"
   ]
  },
  {
   "cell_type": "markdown",
   "metadata": {},
   "source": [
    "run regardless of outcome of try"
   ]
  },
  {
   "cell_type": "code",
   "execution_count": 5,
   "metadata": {},
   "outputs": [
    {
     "name": "stdout",
     "output_type": "stream",
     "text": [
      "hi\n",
      "this\n",
      "is \n",
      "a\n",
      "test\n",
      "file\n",
      "completed! this block will run all the time\n"
     ]
    }
   ],
   "source": [
    "try:\n",
    "    f = open('demo.txt') # file exists\n",
    "except FileNotFoundError:\n",
    "    print('File doesn\\'t exist')\n",
    "except Exception as e:\n",
    "    print(e)\n",
    "else:\n",
    "    print(f.read())\n",
    "    f.close()\n",
    "finally:\n",
    "    print('completed! this block will run all the time')"
   ]
  },
  {
   "cell_type": "markdown",
   "metadata": {},
   "source": [
    "## custom exceptions"
   ]
  },
  {
   "cell_type": "code",
   "execution_count": 6,
   "metadata": {},
   "outputs": [
    {
     "name": "stdout",
     "output_type": "stream",
     "text": [
      "Opened wrong file demo.txt\n",
      "completed! this block will run all the time\n"
     ]
    }
   ],
   "source": [
    "try:\n",
    "    f = open('demo.txt') # file exists\n",
    "    if f.name == 'demo.txt':\n",
    "        raise Exception \n",
    "except FileNotFoundError:\n",
    "    print('File doesn\\'t exist')\n",
    "except Exception as e:\n",
    "    print('Opened wrong file {0}'.format(f.name))\n",
    "else:\n",
    "    print(f.read())\n",
    "    f.close()\n",
    "finally:\n",
    "    print('completed! this block will run all the time')"
   ]
  }
 ],
 "metadata": {
  "kernelspec": {
   "display_name": "Python 3",
   "language": "python",
   "name": "python3"
  },
  "language_info": {
   "codemirror_mode": {
    "name": "ipython",
    "version": 3
   },
   "file_extension": ".py",
   "mimetype": "text/x-python",
   "name": "python",
   "nbconvert_exporter": "python",
   "pygments_lexer": "ipython3",
   "version": "3.11.0"
  }
 },
 "nbformat": 4,
 "nbformat_minor": 2
}
